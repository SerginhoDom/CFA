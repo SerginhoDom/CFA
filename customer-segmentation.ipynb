{
 "cells": [
  {
   "cell_type": "code",
   "execution_count": 1,
   "id": "aba96462",
   "metadata": {
    "_cell_guid": "b1076dfc-b9ad-4769-8c92-a6c4dae69d19",
    "_uuid": "8f2839f25d086af736a60e9eeb907d3b93b6e0e5",
    "execution": {
     "iopub.execute_input": "2025-01-26T16:34:37.268313Z",
     "iopub.status.busy": "2025-01-26T16:34:37.267788Z",
     "iopub.status.idle": "2025-01-26T16:34:38.314631Z",
     "shell.execute_reply": "2025-01-26T16:34:38.313470Z"
    },
    "papermill": {
     "duration": 1.070782,
     "end_time": "2025-01-26T16:34:38.317044",
     "exception": false,
     "start_time": "2025-01-26T16:34:37.246262",
     "status": "completed"
    },
    "tags": []
   },
   "outputs": [
    {
     "name": "stdout",
     "output_type": "stream",
     "text": [
      "/kaggle/input/ecommerce-data/data.csv\n"
     ]
    }
   ],
   "source": [
    "# This Python 3 environment comes with many helpful analytics libraries installed\n",
    "# It is defined by the kaggle/python Docker image: https://github.com/kaggle/docker-python\n",
    "# For example, here's several helpful packages to load\n",
    "\n",
    "import numpy as np # linear algebra\n",
    "import pandas as pd # data processing, CSV file I/O (e.g. pd.read_csv)\n",
    "\n",
    "# Input data files are available in the read-only \"../input/\" directory\n",
    "# For example, running this (by clicking run or pressing Shift+Enter) will list all files under the input directory\n",
    "\n",
    "import os\n",
    "for dirname, _, filenames in os.walk('/kaggle/input'):\n",
    "    for filename in filenames:\n",
    "        print(os.path.join(dirname, filename))\n",
    "\n",
    "# You can write up to 20GB to the current directory (/kaggle/working/) that gets preserved as output when you create a version using \"Save & Run All\" \n",
    "# You can also write temporary files to /kaggle/temp/, but they won't be saved outside of the current session"
   ]
  },
  {
   "cell_type": "markdown",
   "id": "fe44a0f2",
   "metadata": {
    "papermill": {
     "duration": 0.018093,
     "end_time": "2025-01-26T16:34:38.354104",
     "exception": false,
     "start_time": "2025-01-26T16:34:38.336011",
     "status": "completed"
    },
    "tags": []
   },
   "source": [
    "<h1 style=\"text-align:center; color:#000080; font-weight:bold; font-size:38px;\">Customer Segmentation</h1>"
   ]
  },
  {
   "cell_type": "markdown",
   "id": "57918ed7",
   "metadata": {
    "papermill": {
     "duration": 0.018188,
     "end_time": "2025-01-26T16:34:38.392654",
     "exception": false,
     "start_time": "2025-01-26T16:34:38.374466",
     "status": "completed"
    },
    "tags": []
   },
   "source": [
    "# Dataset Description: Online Retail Data\n",
    "\n",
    "This dataset contains transactional data of an **online retail store** based in the UK. It includes information about orders placed by customers between **December 2010** and **December 2011**.\n",
    "\n",
    "## Features\n",
    "- **InvoiceNo**: A unique number assigned to each transaction. Prefix 'C' indicates a canceled transaction.\n",
    "- **StockCode**: A unique identifier for each product (item) in the inventory.\n",
    "- **Description**: A brief description of the product.\n",
    "- **Quantity**: The number of items purchased per transaction. Negative values indicate product returns.\n",
    "- **InvoiceDate**: The date and time when the transaction was recorded.\n",
    "- **UnitPrice**: The price of a single product per unit (in GBP).\n",
    "- **CustomerID**: A unique identifier for each customer. Missing values represent unidentified customers.\n",
    "- **Country**: The country where the customer resides.\n",
    "\n",
    "## Key Insights\n",
    "- The dataset primarily represents transactions from **UK-based customers**, but it also includes transactions from other countries.\n",
    "- It contains **missing values** in the `CustomerID` column, which may require preprocessing.\n",
    "- Negative quantities in the `Quantity` column indicate **returns or canceled orders**.\n",
    "- This dataset is ideal for **RFM analysis** to segment customers based on their purchasing behavior.\n",
    "\n",
    "## Size and Format\n",
    "- Number of Rows: **541,909**\n",
    "- Number of Columns: **8**\n",
    "- File Format: **CSV**\n"
   ]
  },
  {
   "cell_type": "markdown",
   "id": "5891f706",
   "metadata": {
    "papermill": {
     "duration": 0.017728,
     "end_time": "2025-01-26T16:34:38.428744",
     "exception": false,
     "start_time": "2025-01-26T16:34:38.411016",
     "status": "completed"
    },
    "tags": []
   },
   "source": [
    "<h1 style=\"text-align:left; color:#FF5733; font-weight:bold; font-size:28px; font-family:Arial, sans-serif;\">Import Libraries</h1>"
   ]
  },
  {
   "cell_type": "code",
   "execution_count": 2,
   "id": "1e9ad7f5",
   "metadata": {
    "execution": {
     "iopub.execute_input": "2025-01-26T16:34:38.468627Z",
     "iopub.status.busy": "2025-01-26T16:34:38.468086Z",
     "iopub.status.idle": "2025-01-26T16:34:42.244111Z",
     "shell.execute_reply": "2025-01-26T16:34:42.242892Z"
    },
    "papermill": {
     "duration": 3.799051,
     "end_time": "2025-01-26T16:34:42.246424",
     "exception": false,
     "start_time": "2025-01-26T16:34:38.447373",
     "status": "completed"
    },
    "tags": []
   },
   "outputs": [],
   "source": [
    "# Importing necessary libraries\n",
    "import numpy as np\n",
    "import pandas as pd\n",
    "import matplotlib.pyplot as plt\n",
    "import seaborn as sns\n",
    "import plotly.express as px\n",
    "from sklearn.preprocessing import StandardScaler\n",
    "from sklearn.cluster import KMeans\n",
    "from sklearn.metrics import silhouette_score"
   ]
  },
  {
   "cell_type": "markdown",
   "id": "00674364",
   "metadata": {
    "papermill": {
     "duration": 0.017969,
     "end_time": "2025-01-26T16:34:42.283798",
     "exception": false,
     "start_time": "2025-01-26T16:34:42.265829",
     "status": "completed"
    },
    "tags": []
   },
   "source": [
    "<h1 style=\"text-align:left; color:#FF5733; font-weight:bold; font-size:28px; font-family:Arial, sans-serif;\">Remove Warnings</h1>\n"
   ]
  },
  {
   "cell_type": "code",
   "execution_count": 3,
   "id": "9dda7c2d",
   "metadata": {
    "execution": {
     "iopub.execute_input": "2025-01-26T16:34:42.321536Z",
     "iopub.status.busy": "2025-01-26T16:34:42.320760Z",
     "iopub.status.idle": "2025-01-26T16:34:42.325565Z",
     "shell.execute_reply": "2025-01-26T16:34:42.324403Z"
    },
    "papermill": {
     "duration": 0.025668,
     "end_time": "2025-01-26T16:34:42.327517",
     "exception": false,
     "start_time": "2025-01-26T16:34:42.301849",
     "status": "completed"
    },
    "tags": []
   },
   "outputs": [],
   "source": [
    "import warnings\n",
    "warnings.filterwarnings('ignore')"
   ]
  },
  {
   "cell_type": "markdown",
   "id": "d7d0d4a2",
   "metadata": {
    "papermill": {
     "duration": 0.018372,
     "end_time": "2025-01-26T16:34:42.364847",
     "exception": false,
     "start_time": "2025-01-26T16:34:42.346475",
     "status": "completed"
    },
    "tags": []
   },
   "source": [
    "<a id=\"1\"></a>\n",
    "# <div style=\"text-align:center; border-radius:25px 70px; padding:9px; color:white; margin:0; font-size:150%; font-family:Pacifico; background-color:#20B2AA; overflow:hidden\"><b>Reading The Data</b></div>"
   ]
  },
  {
   "cell_type": "code",
   "execution_count": 4,
   "id": "fc386aa2",
   "metadata": {
    "execution": {
     "iopub.execute_input": "2025-01-26T16:34:42.402663Z",
     "iopub.status.busy": "2025-01-26T16:34:42.402298Z",
     "iopub.status.idle": "2025-01-26T16:34:43.867939Z",
     "shell.execute_reply": "2025-01-26T16:34:43.866782Z"
    },
    "papermill": {
     "duration": 1.487661,
     "end_time": "2025-01-26T16:34:43.870757",
     "exception": false,
     "start_time": "2025-01-26T16:34:42.383096",
     "status": "completed"
    },
    "tags": []
   },
   "outputs": [],
   "source": [
    "df = pd.read_csv(\"/kaggle/input/ecommerce-data/data.csv\", encoding='ISO-8859-1')"
   ]
  },
  {
   "cell_type": "code",
   "execution_count": 5,
   "id": "3793fbf0",
   "metadata": {
    "execution": {
     "iopub.execute_input": "2025-01-26T16:34:43.908780Z",
     "iopub.status.busy": "2025-01-26T16:34:43.908415Z",
     "iopub.status.idle": "2025-01-26T16:34:43.939307Z",
     "shell.execute_reply": "2025-01-26T16:34:43.937972Z"
    },
    "papermill": {
     "duration": 0.052293,
     "end_time": "2025-01-26T16:34:43.941601",
     "exception": false,
     "start_time": "2025-01-26T16:34:43.889308",
     "status": "completed"
    },
    "tags": []
   },
   "outputs": [
    {
     "data": {
      "text/html": [
       "<div>\n",
       "<style scoped>\n",
       "    .dataframe tbody tr th:only-of-type {\n",
       "        vertical-align: middle;\n",
       "    }\n",
       "\n",
       "    .dataframe tbody tr th {\n",
       "        vertical-align: top;\n",
       "    }\n",
       "\n",
       "    .dataframe thead th {\n",
       "        text-align: right;\n",
       "    }\n",
       "</style>\n",
       "<table border=\"1\" class=\"dataframe\">\n",
       "  <thead>\n",
       "    <tr style=\"text-align: right;\">\n",
       "      <th></th>\n",
       "      <th>InvoiceNo</th>\n",
       "      <th>StockCode</th>\n",
       "      <th>Description</th>\n",
       "      <th>Quantity</th>\n",
       "      <th>InvoiceDate</th>\n",
       "      <th>UnitPrice</th>\n",
       "      <th>CustomerID</th>\n",
       "      <th>Country</th>\n",
       "    </tr>\n",
       "  </thead>\n",
       "  <tbody>\n",
       "    <tr>\n",
       "      <th>0</th>\n",
       "      <td>536365</td>\n",
       "      <td>85123A</td>\n",
       "      <td>WHITE HANGING HEART T-LIGHT HOLDER</td>\n",
       "      <td>6</td>\n",
       "      <td>12/1/2010 8:26</td>\n",
       "      <td>2.55</td>\n",
       "      <td>17850.0</td>\n",
       "      <td>United Kingdom</td>\n",
       "    </tr>\n",
       "    <tr>\n",
       "      <th>1</th>\n",
       "      <td>536365</td>\n",
       "      <td>71053</td>\n",
       "      <td>WHITE METAL LANTERN</td>\n",
       "      <td>6</td>\n",
       "      <td>12/1/2010 8:26</td>\n",
       "      <td>3.39</td>\n",
       "      <td>17850.0</td>\n",
       "      <td>United Kingdom</td>\n",
       "    </tr>\n",
       "    <tr>\n",
       "      <th>2</th>\n",
       "      <td>536365</td>\n",
       "      <td>84406B</td>\n",
       "      <td>CREAM CUPID HEARTS COAT HANGER</td>\n",
       "      <td>8</td>\n",
       "      <td>12/1/2010 8:26</td>\n",
       "      <td>2.75</td>\n",
       "      <td>17850.0</td>\n",
       "      <td>United Kingdom</td>\n",
       "    </tr>\n",
       "    <tr>\n",
       "      <th>3</th>\n",
       "      <td>536365</td>\n",
       "      <td>84029G</td>\n",
       "      <td>KNITTED UNION FLAG HOT WATER BOTTLE</td>\n",
       "      <td>6</td>\n",
       "      <td>12/1/2010 8:26</td>\n",
       "      <td>3.39</td>\n",
       "      <td>17850.0</td>\n",
       "      <td>United Kingdom</td>\n",
       "    </tr>\n",
       "    <tr>\n",
       "      <th>4</th>\n",
       "      <td>536365</td>\n",
       "      <td>84029E</td>\n",
       "      <td>RED WOOLLY HOTTIE WHITE HEART.</td>\n",
       "      <td>6</td>\n",
       "      <td>12/1/2010 8:26</td>\n",
       "      <td>3.39</td>\n",
       "      <td>17850.0</td>\n",
       "      <td>United Kingdom</td>\n",
       "    </tr>\n",
       "  </tbody>\n",
       "</table>\n",
       "</div>"
      ],
      "text/plain": [
       "  InvoiceNo StockCode                          Description  Quantity  \\\n",
       "0    536365    85123A   WHITE HANGING HEART T-LIGHT HOLDER         6   \n",
       "1    536365     71053                  WHITE METAL LANTERN         6   \n",
       "2    536365    84406B       CREAM CUPID HEARTS COAT HANGER         8   \n",
       "3    536365    84029G  KNITTED UNION FLAG HOT WATER BOTTLE         6   \n",
       "4    536365    84029E       RED WOOLLY HOTTIE WHITE HEART.         6   \n",
       "\n",
       "      InvoiceDate  UnitPrice  CustomerID         Country  \n",
       "0  12/1/2010 8:26       2.55     17850.0  United Kingdom  \n",
       "1  12/1/2010 8:26       3.39     17850.0  United Kingdom  \n",
       "2  12/1/2010 8:26       2.75     17850.0  United Kingdom  \n",
       "3  12/1/2010 8:26       3.39     17850.0  United Kingdom  \n",
       "4  12/1/2010 8:26       3.39     17850.0  United Kingdom  "
      ]
     },
     "execution_count": 5,
     "metadata": {},
     "output_type": "execute_result"
    }
   ],
   "source": [
    "df.head()"
   ]
  },
  {
   "cell_type": "code",
   "execution_count": 6,
   "id": "01f9c49b",
   "metadata": {
    "execution": {
     "iopub.execute_input": "2025-01-26T16:34:43.981045Z",
     "iopub.status.busy": "2025-01-26T16:34:43.980554Z",
     "iopub.status.idle": "2025-01-26T16:34:44.145778Z",
     "shell.execute_reply": "2025-01-26T16:34:44.144363Z"
    },
    "papermill": {
     "duration": 0.187301,
     "end_time": "2025-01-26T16:34:44.147792",
     "exception": false,
     "start_time": "2025-01-26T16:34:43.960491",
     "status": "completed"
    },
    "tags": []
   },
   "outputs": [
    {
     "name": "stdout",
     "output_type": "stream",
     "text": [
      "<class 'pandas.core.frame.DataFrame'>\n",
      "RangeIndex: 541909 entries, 0 to 541908\n",
      "Data columns (total 8 columns):\n",
      " #   Column       Non-Null Count   Dtype  \n",
      "---  ------       --------------   -----  \n",
      " 0   InvoiceNo    541909 non-null  object \n",
      " 1   StockCode    541909 non-null  object \n",
      " 2   Description  540455 non-null  object \n",
      " 3   Quantity     541909 non-null  int64  \n",
      " 4   InvoiceDate  541909 non-null  object \n",
      " 5   UnitPrice    541909 non-null  float64\n",
      " 6   CustomerID   406829 non-null  float64\n",
      " 7   Country      541909 non-null  object \n",
      "dtypes: float64(2), int64(1), object(5)\n",
      "memory usage: 33.1+ MB\n"
     ]
    }
   ],
   "source": [
    "df.info()"
   ]
  },
  {
   "cell_type": "code",
   "execution_count": 7,
   "id": "ba6d8d46",
   "metadata": {
    "execution": {
     "iopub.execute_input": "2025-01-26T16:34:44.187354Z",
     "iopub.status.busy": "2025-01-26T16:34:44.186908Z",
     "iopub.status.idle": "2025-01-26T16:34:44.193629Z",
     "shell.execute_reply": "2025-01-26T16:34:44.192249Z"
    },
    "papermill": {
     "duration": 0.02835,
     "end_time": "2025-01-26T16:34:44.195563",
     "exception": false,
     "start_time": "2025-01-26T16:34:44.167213",
     "status": "completed"
    },
    "tags": []
   },
   "outputs": [
    {
     "data": {
      "text/plain": [
       "(541909, 8)"
      ]
     },
     "execution_count": 7,
     "metadata": {},
     "output_type": "execute_result"
    }
   ],
   "source": [
    "df.shape"
   ]
  },
  {
   "cell_type": "markdown",
   "id": "f5f78481",
   "metadata": {
    "papermill": {
     "duration": 0.018789,
     "end_time": "2025-01-26T16:34:44.234244",
     "exception": false,
     "start_time": "2025-01-26T16:34:44.215455",
     "status": "completed"
    },
    "tags": []
   },
   "source": [
    "- **Number of Instances**: 541,909\n",
    "- **Number of Attributes**: 8\n",
    "- **Missing Values**: The dataset contains missing values, particularly in the CustomerID and Description columns."
   ]
  },
  {
   "cell_type": "markdown",
   "id": "efb50c6c",
   "metadata": {
    "papermill": {
     "duration": 0.018279,
     "end_time": "2025-01-26T16:34:44.271989",
     "exception": false,
     "start_time": "2025-01-26T16:34:44.253710",
     "status": "completed"
    },
    "tags": []
   },
   "source": [
    "<a id=\"1\"></a>\n",
    "# <div style=\"text-align:center; border-radius:25px 70px; padding:9px; color:white; margin:0; font-size:150%; font-family:Pacifico; background-color:#20B2AA; overflow:hidden\"><b>Data Preprocessing</b></div>"
   ]
  },
  {
   "cell_type": "markdown",
   "id": "b5cc5a6e",
   "metadata": {
    "papermill": {
     "duration": 0.018884,
     "end_time": "2025-01-26T16:34:44.309545",
     "exception": false,
     "start_time": "2025-01-26T16:34:44.290661",
     "status": "completed"
    },
    "tags": []
   },
   "source": [
    "## 1.Null Values"
   ]
  },
  {
   "cell_type": "code",
   "execution_count": 8,
   "id": "e8e423ea",
   "metadata": {
    "execution": {
     "iopub.execute_input": "2025-01-26T16:34:44.348846Z",
     "iopub.status.busy": "2025-01-26T16:34:44.348453Z",
     "iopub.status.idle": "2025-01-26T16:34:44.838891Z",
     "shell.execute_reply": "2025-01-26T16:34:44.837702Z"
    },
    "papermill": {
     "duration": 0.512343,
     "end_time": "2025-01-26T16:34:44.840737",
     "exception": false,
     "start_time": "2025-01-26T16:34:44.328394",
     "status": "completed"
    },
    "tags": []
   },
   "outputs": [
    {
     "data": {
      "image/png": "[encoded data removed]",
      "text/plain": [
       "<Figure size 600x500 with 1 Axes>"
      ]
     },
     "metadata": {},
     "output_type": "display_data"
    }
   ],
   "source": [
    "null_percentages = (df.isnull().sum()/df.shape[0])*100\n",
    "null_percentages = null_percentages.reset_index()\n",
    "null_percentages.columns = ['Column Name','Percentage']\n",
    "plt.figure(figsize=(6,5))\n",
    "sns.barplot(data=null_percentages,x='Column Name',y='Percentage')\n",
    "plt.xlabel('Column Name',fontsize = 12)\n",
    "plt.ylabel('Percentage of Null Values',fontsize = 12)\n",
    "plt.title('Percentage of Null Values in Each Column')\n",
    "plt.xticks(rotation=90,fontsize = 10)\n",
    "plt.tight_layout()\n",
    "plt.show()"
   ]
  },
  {
   "cell_type": "markdown",
   "id": "0b46041c",
   "metadata": {
    "papermill": {
     "duration": 0.018877,
     "end_time": "2025-01-26T16:34:44.879098",
     "exception": false,
     "start_time": "2025-01-26T16:34:44.860221",
     "status": "completed"
    },
    "tags": []
   },
   "source": [
    " - The **CustomerID** column contains nearly a quarter of missing values, which poses a\n",
    " challenge for customer segmentation. Since this column is crucial for uniquely\n",
    " identifying customers and linking their purchasing patterns, handling these missing\n",
    " values carefully is essential. "
   ]
  },
  {
   "cell_type": "markdown",
   "id": "0bfe0167",
   "metadata": {
    "papermill": {
     "duration": 0.076314,
     "end_time": "2025-01-26T16:34:44.974914",
     "exception": false,
     "start_time": "2025-01-26T16:34:44.898600",
     "status": "completed"
    },
    "tags": []
   },
   "source": [
    "## 2.Duplicated Values"
   ]
  },
  {
   "cell_type": "code",
   "execution_count": 9,
   "id": "adfa7152",
   "metadata": {
    "execution": {
     "iopub.execute_input": "2025-01-26T16:34:45.015866Z",
     "iopub.status.busy": "2025-01-26T16:34:45.015459Z",
     "iopub.status.idle": "2025-01-26T16:34:45.173533Z",
     "shell.execute_reply": "2025-01-26T16:34:45.172243Z"
    },
    "papermill": {
     "duration": 0.181176,
     "end_time": "2025-01-26T16:34:45.175598",
     "exception": false,
     "start_time": "2025-01-26T16:34:44.994422",
     "status": "completed"
    },
    "tags": []
   },
   "outputs": [
    {
     "name": "stdout",
     "output_type": "stream",
     "text": [
      "Null Values in the Dataset 0.0\n"
     ]
    }
   ],
   "source": [
    "df.dropna(subset=['CustomerID'], inplace=True)\n",
    "print(f\"Null Values in the Dataset {((df.isnull().sum()/df.shape[0])*100).sum()}\")"
   ]
  },
  {
   "cell_type": "code",
   "execution_count": 10,
   "id": "e09a137a",
   "metadata": {
    "execution": {
     "iopub.execute_input": "2025-01-26T16:34:45.216571Z",
     "iopub.status.busy": "2025-01-26T16:34:45.216202Z",
     "iopub.status.idle": "2025-01-26T16:34:46.024409Z",
     "shell.execute_reply": "2025-01-26T16:34:46.023292Z"
    },
    "papermill": {
     "duration": 0.83093,
     "end_time": "2025-01-26T16:34:46.026270",
     "exception": false,
     "start_time": "2025-01-26T16:34:45.195340",
     "status": "completed"
    },
    "tags": []
   },
   "outputs": [
    {
     "name": "stdout",
     "output_type": "stream",
     "text": [
      "Duplicated Values in the Dataset 5225\n",
      "Percentage of Duplicates 1.28\n",
      "*********************************************\n"
     ]
    },
    {
     "data": {
      "text/html": [
       "<div>\n",
       "<style scoped>\n",
       "    .dataframe tbody tr th:only-of-type {\n",
       "        vertical-align: middle;\n",
       "    }\n",
       "\n",
       "    .dataframe tbody tr th {\n",
       "        vertical-align: top;\n",
       "    }\n",
       "\n",
       "    .dataframe thead th {\n",
       "        text-align: right;\n",
       "    }\n",
       "</style>\n",
       "<table border=\"1\" class=\"dataframe\">\n",
       "  <thead>\n",
       "    <tr style=\"text-align: right;\">\n",
       "      <th></th>\n",
       "      <th>InvoiceNo</th>\n",
       "      <th>StockCode</th>\n",
       "      <th>Description</th>\n",
       "      <th>Quantity</th>\n",
       "      <th>InvoiceDate</th>\n",
       "      <th>UnitPrice</th>\n",
       "      <th>CustomerID</th>\n",
       "      <th>Country</th>\n",
       "    </tr>\n",
       "  </thead>\n",
       "  <tbody>\n",
       "    <tr>\n",
       "      <th>485</th>\n",
       "      <td>536409</td>\n",
       "      <td>22111</td>\n",
       "      <td>SCOTTIE DOG HOT WATER BOTTLE</td>\n",
       "      <td>1</td>\n",
       "      <td>12/1/2010 11:45</td>\n",
       "      <td>4.95</td>\n",
       "      <td>17908.0</td>\n",
       "      <td>United Kingdom</td>\n",
       "    </tr>\n",
       "    <tr>\n",
       "      <th>489</th>\n",
       "      <td>536409</td>\n",
       "      <td>22866</td>\n",
       "      <td>HAND WARMER SCOTTY DOG DESIGN</td>\n",
       "      <td>1</td>\n",
       "      <td>12/1/2010 11:45</td>\n",
       "      <td>2.10</td>\n",
       "      <td>17908.0</td>\n",
       "      <td>United Kingdom</td>\n",
       "    </tr>\n",
       "    <tr>\n",
       "      <th>494</th>\n",
       "      <td>536409</td>\n",
       "      <td>21866</td>\n",
       "      <td>UNION JACK FLAG LUGGAGE TAG</td>\n",
       "      <td>1</td>\n",
       "      <td>12/1/2010 11:45</td>\n",
       "      <td>1.25</td>\n",
       "      <td>17908.0</td>\n",
       "      <td>United Kingdom</td>\n",
       "    </tr>\n",
       "    <tr>\n",
       "      <th>517</th>\n",
       "      <td>536409</td>\n",
       "      <td>21866</td>\n",
       "      <td>UNION JACK FLAG LUGGAGE TAG</td>\n",
       "      <td>1</td>\n",
       "      <td>12/1/2010 11:45</td>\n",
       "      <td>1.25</td>\n",
       "      <td>17908.0</td>\n",
       "      <td>United Kingdom</td>\n",
       "    </tr>\n",
       "    <tr>\n",
       "      <th>521</th>\n",
       "      <td>536409</td>\n",
       "      <td>22900</td>\n",
       "      <td>SET 2 TEA TOWELS I LOVE LONDON</td>\n",
       "      <td>1</td>\n",
       "      <td>12/1/2010 11:45</td>\n",
       "      <td>2.95</td>\n",
       "      <td>17908.0</td>\n",
       "      <td>United Kingdom</td>\n",
       "    </tr>\n",
       "    <tr>\n",
       "      <th>...</th>\n",
       "      <td>...</td>\n",
       "      <td>...</td>\n",
       "      <td>...</td>\n",
       "      <td>...</td>\n",
       "      <td>...</td>\n",
       "      <td>...</td>\n",
       "      <td>...</td>\n",
       "      <td>...</td>\n",
       "    </tr>\n",
       "    <tr>\n",
       "      <th>440149</th>\n",
       "      <td>C574510</td>\n",
       "      <td>22360</td>\n",
       "      <td>GLASS JAR ENGLISH CONFECTIONERY</td>\n",
       "      <td>-1</td>\n",
       "      <td>11/4/2011 13:25</td>\n",
       "      <td>2.95</td>\n",
       "      <td>15110.0</td>\n",
       "      <td>United Kingdom</td>\n",
       "    </tr>\n",
       "    <tr>\n",
       "      <th>461407</th>\n",
       "      <td>C575940</td>\n",
       "      <td>23309</td>\n",
       "      <td>SET OF 60 I LOVE LONDON CAKE CASES</td>\n",
       "      <td>-24</td>\n",
       "      <td>11/13/2011 11:38</td>\n",
       "      <td>0.55</td>\n",
       "      <td>17838.0</td>\n",
       "      <td>United Kingdom</td>\n",
       "    </tr>\n",
       "    <tr>\n",
       "      <th>461408</th>\n",
       "      <td>C575940</td>\n",
       "      <td>23309</td>\n",
       "      <td>SET OF 60 I LOVE LONDON CAKE CASES</td>\n",
       "      <td>-24</td>\n",
       "      <td>11/13/2011 11:38</td>\n",
       "      <td>0.55</td>\n",
       "      <td>17838.0</td>\n",
       "      <td>United Kingdom</td>\n",
       "    </tr>\n",
       "    <tr>\n",
       "      <th>529981</th>\n",
       "      <td>C580764</td>\n",
       "      <td>22667</td>\n",
       "      <td>RECIPE BOX RETROSPOT</td>\n",
       "      <td>-12</td>\n",
       "      <td>12/6/2011 10:38</td>\n",
       "      <td>2.95</td>\n",
       "      <td>14562.0</td>\n",
       "      <td>United Kingdom</td>\n",
       "    </tr>\n",
       "    <tr>\n",
       "      <th>529980</th>\n",
       "      <td>C580764</td>\n",
       "      <td>22667</td>\n",
       "      <td>RECIPE BOX RETROSPOT</td>\n",
       "      <td>-12</td>\n",
       "      <td>12/6/2011 10:38</td>\n",
       "      <td>2.95</td>\n",
       "      <td>14562.0</td>\n",
       "      <td>United Kingdom</td>\n",
       "    </tr>\n",
       "  </tbody>\n",
       "</table>\n",
       "<p>10062 rows × 8 columns</p>\n",
       "</div>"
      ],
      "text/plain": [
       "       InvoiceNo StockCode                          Description  Quantity  \\\n",
       "485       536409     22111         SCOTTIE DOG HOT WATER BOTTLE         1   \n",
       "489       536409     22866        HAND WARMER SCOTTY DOG DESIGN         1   \n",
       "494       536409     21866          UNION JACK FLAG LUGGAGE TAG         1   \n",
       "517       536409     21866          UNION JACK FLAG LUGGAGE TAG         1   \n",
       "521       536409     22900      SET 2 TEA TOWELS I LOVE LONDON          1   \n",
       "...          ...       ...                                  ...       ...   \n",
       "440149   C574510     22360      GLASS JAR ENGLISH CONFECTIONERY        -1   \n",
       "461407   C575940     23309  SET OF 60 I LOVE LONDON CAKE CASES        -24   \n",
       "461408   C575940     23309  SET OF 60 I LOVE LONDON CAKE CASES        -24   \n",
       "529981   C580764     22667                RECIPE BOX RETROSPOT        -12   \n",
       "529980   C580764     22667                RECIPE BOX RETROSPOT        -12   \n",
       "\n",
       "             InvoiceDate  UnitPrice  CustomerID         Country  \n",
       "485      12/1/2010 11:45       4.95     17908.0  United Kingdom  \n",
       "489      12/1/2010 11:45       2.10     17908.0  United Kingdom  \n",
       "494      12/1/2010 11:45       1.25     17908.0  United Kingdom  \n",
       "517      12/1/2010 11:45       1.25     17908.0  United Kingdom  \n",
       "521      12/1/2010 11:45       2.95     17908.0  United Kingdom  \n",
       "...                  ...        ...         ...             ...  \n",
       "440149   11/4/2011 13:25       2.95     15110.0  United Kingdom  \n",
       "461407  11/13/2011 11:38       0.55     17838.0  United Kingdom  \n",
       "461408  11/13/2011 11:38       0.55     17838.0  United Kingdom  \n",
       "529981   12/6/2011 10:38       2.95     14562.0  United Kingdom  \n",
       "529980   12/6/2011 10:38       2.95     14562.0  United Kingdom  \n",
       "\n",
       "[10062 rows x 8 columns]"
      ]
     },
     "execution_count": 10,
     "metadata": {},
     "output_type": "execute_result"
    }
   ],
   "source": [
    "print(f\"Duplicated Values in the Dataset {df.duplicated().sum()}\")\n",
    "print(f\"Percentage of Duplicates {np.round((df.duplicated().sum()/df.shape[0])*100, 2)}\")\n",
    "print(\"*\"* 45)\n",
    "df[df.duplicated(keep=False)].sort_values(by='InvoiceNo')"
   ]
  },
  {
   "cell_type": "markdown",
   "id": "24769dd7",
   "metadata": {
    "papermill": {
     "duration": 0.020029,
     "end_time": "2025-01-26T16:34:46.067809",
     "exception": false,
     "start_time": "2025-01-26T16:34:46.047780",
     "status": "completed"
    },
    "tags": []
   },
   "source": [
    " The dataset contains **5,225** duplicate entries, accounting for **1.28%** of the total data.\n",
    " These duplicates will be removed to ensure the integrity and accuracy of the analysis"
   ]
  },
  {
   "cell_type": "code",
   "execution_count": 11,
   "id": "e96d9ec6",
   "metadata": {
    "execution": {
     "iopub.execute_input": "2025-01-26T16:34:46.110226Z",
     "iopub.status.busy": "2025-01-26T16:34:46.109747Z",
     "iopub.status.idle": "2025-01-26T16:34:46.814502Z",
     "shell.execute_reply": "2025-01-26T16:34:46.813098Z"
    },
    "papermill": {
     "duration": 0.728617,
     "end_time": "2025-01-26T16:34:46.816635",
     "exception": false,
     "start_time": "2025-01-26T16:34:46.088018",
     "status": "completed"
    },
    "tags": []
   },
   "outputs": [
    {
     "name": "stdout",
     "output_type": "stream",
     "text": [
      "Duplicated Values in the Dataset 0\n",
      "Percentage of Duplicates 0.0\n"
     ]
    }
   ],
   "source": [
    "df.drop_duplicates(inplace=True)\n",
    "print(f\"Duplicated Values in the Dataset {df.duplicated().sum()}\")\n",
    "print(f\"Percentage of Duplicates {np.round((df.duplicated().sum()/df.shape[0])*100, 2)}\")"
   ]
  },
  {
   "cell_type": "markdown",
   "id": "d54a0462",
   "metadata": {
    "papermill": {
     "duration": 0.019741,
     "end_time": "2025-01-26T16:34:46.857585",
     "exception": false,
     "start_time": "2025-01-26T16:34:46.837844",
     "status": "completed"
    },
    "tags": []
   },
   "source": [
    "## 3.Cancelled Transactions"
   ]
  },
  {
   "cell_type": "code",
   "execution_count": 12,
   "id": "b4c6c92e",
   "metadata": {
    "execution": {
     "iopub.execute_input": "2025-01-26T16:34:46.899433Z",
     "iopub.status.busy": "2025-01-26T16:34:46.898995Z",
     "iopub.status.idle": "2025-01-26T16:34:47.024679Z",
     "shell.execute_reply": "2025-01-26T16:34:47.023549Z"
    },
    "papermill": {
     "duration": 0.1486,
     "end_time": "2025-01-26T16:34:47.026551",
     "exception": false,
     "start_time": "2025-01-26T16:34:46.877951",
     "status": "completed"
    },
    "tags": []
   },
   "outputs": [
    {
     "name": "stdout",
     "output_type": "stream",
     "text": [
      "Total Canceled Orders 8872\n",
      "Percentage of Canceled Orders 2.21\n",
      "\n",
      "*********************************************\n"
     ]
    },
    {
     "data": {
      "text/html": [
       "<div>\n",
       "<style scoped>\n",
       "    .dataframe tbody tr th:only-of-type {\n",
       "        vertical-align: middle;\n",
       "    }\n",
       "\n",
       "    .dataframe tbody tr th {\n",
       "        vertical-align: top;\n",
       "    }\n",
       "\n",
       "    .dataframe thead th {\n",
       "        text-align: right;\n",
       "    }\n",
       "</style>\n",
       "<table border=\"1\" class=\"dataframe\">\n",
       "  <thead>\n",
       "    <tr style=\"text-align: right;\">\n",
       "      <th></th>\n",
       "      <th>InvoiceNo</th>\n",
       "      <th>StockCode</th>\n",
       "      <th>Description</th>\n",
       "      <th>Quantity</th>\n",
       "      <th>InvoiceDate</th>\n",
       "      <th>UnitPrice</th>\n",
       "      <th>CustomerID</th>\n",
       "      <th>Country</th>\n",
       "    </tr>\n",
       "  </thead>\n",
       "  <tbody>\n",
       "    <tr>\n",
       "      <th>141</th>\n",
       "      <td>C536379</td>\n",
       "      <td>D</td>\n",
       "      <td>Discount</td>\n",
       "      <td>-1</td>\n",
       "      <td>12/1/2010 9:41</td>\n",
       "      <td>27.50</td>\n",
       "      <td>14527.0</td>\n",
       "      <td>United Kingdom</td>\n",
       "    </tr>\n",
       "    <tr>\n",
       "      <th>154</th>\n",
       "      <td>C536383</td>\n",
       "      <td>35004C</td>\n",
       "      <td>SET OF 3 COLOURED  FLYING DUCKS</td>\n",
       "      <td>-1</td>\n",
       "      <td>12/1/2010 9:49</td>\n",
       "      <td>4.65</td>\n",
       "      <td>15311.0</td>\n",
       "      <td>United Kingdom</td>\n",
       "    </tr>\n",
       "    <tr>\n",
       "      <th>235</th>\n",
       "      <td>C536391</td>\n",
       "      <td>22556</td>\n",
       "      <td>PLASTERS IN TIN CIRCUS PARADE</td>\n",
       "      <td>-12</td>\n",
       "      <td>12/1/2010 10:24</td>\n",
       "      <td>1.65</td>\n",
       "      <td>17548.0</td>\n",
       "      <td>United Kingdom</td>\n",
       "    </tr>\n",
       "    <tr>\n",
       "      <th>236</th>\n",
       "      <td>C536391</td>\n",
       "      <td>21984</td>\n",
       "      <td>PACK OF 12 PINK PAISLEY TISSUES</td>\n",
       "      <td>-24</td>\n",
       "      <td>12/1/2010 10:24</td>\n",
       "      <td>0.29</td>\n",
       "      <td>17548.0</td>\n",
       "      <td>United Kingdom</td>\n",
       "    </tr>\n",
       "    <tr>\n",
       "      <th>237</th>\n",
       "      <td>C536391</td>\n",
       "      <td>21983</td>\n",
       "      <td>PACK OF 12 BLUE PAISLEY TISSUES</td>\n",
       "      <td>-24</td>\n",
       "      <td>12/1/2010 10:24</td>\n",
       "      <td>0.29</td>\n",
       "      <td>17548.0</td>\n",
       "      <td>United Kingdom</td>\n",
       "    </tr>\n",
       "  </tbody>\n",
       "</table>\n",
       "</div>"
      ],
      "text/plain": [
       "    InvoiceNo StockCode                       Description  Quantity  \\\n",
       "141   C536379         D                          Discount        -1   \n",
       "154   C536383    35004C   SET OF 3 COLOURED  FLYING DUCKS        -1   \n",
       "235   C536391     22556    PLASTERS IN TIN CIRCUS PARADE        -12   \n",
       "236   C536391     21984  PACK OF 12 PINK PAISLEY TISSUES        -24   \n",
       "237   C536391     21983  PACK OF 12 BLUE PAISLEY TISSUES        -24   \n",
       "\n",
       "         InvoiceDate  UnitPrice  CustomerID         Country  \n",
       "141   12/1/2010 9:41      27.50     14527.0  United Kingdom  \n",
       "154   12/1/2010 9:49       4.65     15311.0  United Kingdom  \n",
       "235  12/1/2010 10:24       1.65     17548.0  United Kingdom  \n",
       "236  12/1/2010 10:24       0.29     17548.0  United Kingdom  \n",
       "237  12/1/2010 10:24       0.29     17548.0  United Kingdom  "
      ]
     },
     "execution_count": 12,
     "metadata": {},
     "output_type": "execute_result"
    }
   ],
   "source": [
    "canceled_orders = df[df['InvoiceNo'].str.startswith('C')]\n",
    "print(f\"Total Canceled Orders {canceled_orders.shape[0]}\")\n",
    "print(f\"Percentage of Canceled Orders {np.round((canceled_orders.shape[0]/df.shape[0])*100,2)}\")\n",
    "print()\n",
    "print(\"*\"*45)\n",
    "canceled_orders.head()"
   ]
  },
  {
   "cell_type": "markdown",
   "id": "3591f7cd",
   "metadata": {
    "papermill": {
     "duration": 0.020999,
     "end_time": "2025-01-26T16:34:47.068536",
     "exception": false,
     "start_time": "2025-01-26T16:34:47.047537",
     "status": "completed"
    },
    "tags": []
   },
   "source": [
    " The **8,872** canceled orders, representing **2.21%** of the dataset, have been removed to\n",
    " ensure the analysis focuses on completed transactions and yields accurate insights."
   ]
  },
  {
   "cell_type": "code",
   "execution_count": 13,
   "id": "b2ec07c9",
   "metadata": {
    "execution": {
     "iopub.execute_input": "2025-01-26T16:34:47.111881Z",
     "iopub.status.busy": "2025-01-26T16:34:47.111481Z",
     "iopub.status.idle": "2025-01-26T16:34:47.237269Z",
     "shell.execute_reply": "2025-01-26T16:34:47.235773Z"
    },
    "papermill": {
     "duration": 0.149125,
     "end_time": "2025-01-26T16:34:47.239253",
     "exception": false,
     "start_time": "2025-01-26T16:34:47.090128",
     "status": "completed"
    },
    "tags": []
   },
   "outputs": [
    {
     "name": "stdout",
     "output_type": "stream",
     "text": [
      "Shape of the Dataset Before Cleaning cancel orders (401604, 8)\n",
      "Shape of the Dataset After Cleaning cancel orders (392732, 8)\n"
     ]
    }
   ],
   "source": [
    "print(f\"Shape of the Dataset Before Cleaning cancel orders {df.shape}\")\n",
    "df = df[~df['InvoiceNo'].str.startswith('C')]\n",
    "print(f\"Shape of the Dataset After Cleaning cancel orders {df.shape}\")"
   ]
  },
  {
   "cell_type": "code",
   "execution_count": 14,
   "id": "af25443d",
   "metadata": {
    "execution": {
     "iopub.execute_input": "2025-01-26T16:34:47.282592Z",
     "iopub.status.busy": "2025-01-26T16:34:47.281989Z",
     "iopub.status.idle": "2025-01-26T16:34:47.427003Z",
     "shell.execute_reply": "2025-01-26T16:34:47.425705Z"
    },
    "papermill": {
     "duration": 0.168922,
     "end_time": "2025-01-26T16:34:47.428996",
     "exception": false,
     "start_time": "2025-01-26T16:34:47.260074",
     "status": "completed"
    },
    "tags": []
   },
   "outputs": [
    {
     "data": {
      "text/html": [
       "<div>\n",
       "<style scoped>\n",
       "    .dataframe tbody tr th:only-of-type {\n",
       "        vertical-align: middle;\n",
       "    }\n",
       "\n",
       "    .dataframe tbody tr th {\n",
       "        vertical-align: top;\n",
       "    }\n",
       "\n",
       "    .dataframe thead th {\n",
       "        text-align: right;\n",
       "    }\n",
       "</style>\n",
       "<table border=\"1\" class=\"dataframe\">\n",
       "  <thead>\n",
       "    <tr style=\"text-align: right;\">\n",
       "      <th></th>\n",
       "      <th>InvoiceNo</th>\n",
       "      <th>StockCode</th>\n",
       "      <th>Description</th>\n",
       "      <th>Quantity</th>\n",
       "      <th>InvoiceDate</th>\n",
       "      <th>UnitPrice</th>\n",
       "      <th>CustomerID</th>\n",
       "      <th>Country</th>\n",
       "    </tr>\n",
       "  </thead>\n",
       "  <tbody>\n",
       "  </tbody>\n",
       "</table>\n",
       "</div>"
      ],
      "text/plain": [
       "Empty DataFrame\n",
       "Columns: [InvoiceNo, StockCode, Description, Quantity, InvoiceDate, UnitPrice, CustomerID, Country]\n",
       "Index: []"
      ]
     },
     "execution_count": 14,
     "metadata": {},
     "output_type": "execute_result"
    }
   ],
   "source": [
    "# To check if there are any rows in the DataFrame where 'InvoiceNo' contains alphabetic characters (e.g., for identifying special invoices like canceled ones).\n",
    "df[df['InvoiceNo'].str.contains('[a-zA-Z]',regex=True)]"
   ]
  },
  {
   "cell_type": "markdown",
   "id": "ec1f7b1d",
   "metadata": {
    "papermill": {
     "duration": 0.021047,
     "end_time": "2025-01-26T16:34:47.471114",
     "exception": false,
     "start_time": "2025-01-26T16:34:47.450067",
     "status": "completed"
    },
    "tags": []
   },
   "source": [
    "## 4.StockCode Anomalies"
   ]
  },
  {
   "cell_type": "code",
   "execution_count": 15,
   "id": "25513414",
   "metadata": {
    "execution": {
     "iopub.execute_input": "2025-01-26T16:34:47.514258Z",
     "iopub.status.busy": "2025-01-26T16:34:47.513851Z",
     "iopub.status.idle": "2025-01-26T16:34:47.892132Z",
     "shell.execute_reply": "2025-01-26T16:34:47.890440Z"
    },
    "papermill": {
     "duration": 0.402693,
     "end_time": "2025-01-26T16:34:47.894552",
     "exception": false,
     "start_time": "2025-01-26T16:34:47.491859",
     "status": "completed"
    },
    "tags": []
   },
   "outputs": [
    {
     "name": "stdout",
     "output_type": "stream",
     "text": [
      "Number of Anomaly Stock Codes : 6 \n",
      "\n",
      "POST ---> POSTAGE\n",
      "C2 ---> CARRIAGE\n",
      "M ---> Manual\n",
      "BANK CHARGES ---> Bank Charges\n",
      "PADS ---> PADS TO MATCH ALL CUSHIONS\n",
      "DOT ---> DOTCOM POSTAGE\n",
      "\n",
      "Total Number of Orders with Anomaly Stock Codes : 1549\n"
     ]
    }
   ],
   "source": [
    "anomaly_stock_codes = df[df['StockCode'].str.contains('^[a-zA-Z]',regex=True)]['StockCode']\n",
    "print(f\"Number of Anomaly Stock Codes : {anomaly_stock_codes.nunique()} \\n\")\n",
    "for stock_code in anomaly_stock_codes.unique():\n",
    "    desc = df[df['StockCode'] == stock_code]\n",
    "    print(f\"{stock_code} ---> {desc['Description'].iloc[0]}\")\n",
    "print(f\"\\nTotal Number of Orders with Anomaly Stock Codes : {anomaly_stock_codes.shape[0]}\")"
   ]
  },
  {
   "cell_type": "code",
   "execution_count": 16,
   "id": "144eff4f",
   "metadata": {
    "execution": {
     "iopub.execute_input": "2025-01-26T16:34:47.939366Z",
     "iopub.status.busy": "2025-01-26T16:34:47.938894Z",
     "iopub.status.idle": "2025-01-26T16:34:48.142324Z",
     "shell.execute_reply": "2025-01-26T16:34:48.141047Z"
    },
    "papermill": {
     "duration": 0.227494,
     "end_time": "2025-01-26T16:34:48.144232",
     "exception": false,
     "start_time": "2025-01-26T16:34:47.916738",
     "status": "completed"
    },
    "tags": []
   },
   "outputs": [
    {
     "name": "stdout",
     "output_type": "stream",
     "text": [
      "Shape of the Dataset Before removing Anomaly Stock Codes (392732, 8)\n",
      "Shape of the Dataset After removing Anomaly Stock Codes (391183, 8)\n"
     ]
    }
   ],
   "source": [
    "print(f\"Shape of the Dataset Before removing Anomaly Stock Codes {df.shape}\")\n",
    "df = df[~df['StockCode'].str.contains('^[a-zA-Z]',regex=True)]\n",
    "print(f\"Shape of the Dataset After removing Anomaly Stock Codes {df.shape}\")"
   ]
  },
  {
   "cell_type": "markdown",
   "id": "a6e76b3f",
   "metadata": {
    "papermill": {
     "duration": 0.020514,
     "end_time": "2025-01-26T16:34:48.186130",
     "exception": false,
     "start_time": "2025-01-26T16:34:48.165616",
     "status": "completed"
    },
    "tags": []
   },
   "source": [
    "## 5.Description Anomalies"
   ]
  },
  {
   "cell_type": "code",
   "execution_count": 17,
   "id": "ca68508f",
   "metadata": {
    "execution": {
     "iopub.execute_input": "2025-01-26T16:34:48.231180Z",
     "iopub.status.busy": "2025-01-26T16:34:48.230785Z",
     "iopub.status.idle": "2025-01-26T16:34:48.541346Z",
     "shell.execute_reply": "2025-01-26T16:34:48.540251Z"
    },
    "papermill": {
     "duration": 0.335643,
     "end_time": "2025-01-26T16:34:48.543100",
     "exception": false,
     "start_time": "2025-01-26T16:34:48.207457",
     "status": "completed"
    },
    "tags": []
   },
   "outputs": [
    {
     "data": {
      "image/png": "[encoded data removed]",
      "text/plain": [
       "<Figure size 800x400 with 1 Axes>"
      ]
     },
     "metadata": {},
     "output_type": "display_data"
    }
   ],
   "source": [
    "description = df['Description'].value_counts()[:10].reset_index()\n",
    "description.columns = ['Description','Count']\n",
    "plt.figure(figsize=(8,4))\n",
    "sns.barplot(data=description,x='Count',y='Description')\n",
    "plt.xlabel('Count',fontsize = 12)\n",
    "plt.ylabel('Description',fontsize = 12)\n",
    "plt.title('Value Counts of Top 10 Descriptions')\n",
    "plt.tight_layout()\n",
    "plt.show()"
   ]
  },
  {
   "cell_type": "markdown",
   "id": "77ab803a",
   "metadata": {
    "papermill": {
     "duration": 0.021868,
     "end_time": "2025-01-26T16:34:48.587626",
     "exception": false,
     "start_time": "2025-01-26T16:34:48.565758",
     "status": "completed"
    },
    "tags": []
   },
   "source": [
    "### Observations from the Bar Graph\n",
    "\n",
    "From the bar graph, we can observe that product descriptions are typically entered in **uppercase**. Any entries in **lowercase** may represent anomalies or errors. Therefore, it is essential to:\n",
    "\n",
    "- Check for such entries\n",
    "- Handle them appropriately to maintain consistency in the dataset"
   ]
  },
  {
   "cell_type": "code",
   "execution_count": 18,
   "id": "36abf235",
   "metadata": {
    "execution": {
     "iopub.execute_input": "2025-01-26T16:34:48.632812Z",
     "iopub.status.busy": "2025-01-26T16:34:48.632461Z",
     "iopub.status.idle": "2025-01-26T16:34:48.824130Z",
     "shell.execute_reply": "2025-01-26T16:34:48.822668Z"
    },
    "papermill": {
     "duration": 0.216455,
     "end_time": "2025-01-26T16:34:48.826069",
     "exception": false,
     "start_time": "2025-01-26T16:34:48.609614",
     "status": "completed"
    },
    "tags": []
   },
   "outputs": [
    {
     "name": "stdout",
     "output_type": "stream",
     "text": [
      "BAG 500g SWIRLY MARBLES\n",
      "POLYESTER FILLER PAD 45x45cm\n",
      "POLYESTER FILLER PAD 45x30cm\n",
      "POLYESTER FILLER PAD 40x40cm\n",
      "FRENCH BLUE METAL DOOR SIGN No\n",
      "BAG 250g SWIRLY MARBLES\n",
      "BAG 125g SWIRLY MARBLES\n",
      "3 TRADITIONAl BISCUIT CUTTERS  SET\n",
      "FOLK ART GREETING CARD,pack/12\n",
      "ESSENTIAL BALM 3.5g TIN IN ENVELOPE\n",
      "POLYESTER FILLER PAD 65CMx65CM\n",
      "NUMBER TILE VINTAGE FONT No \n",
      "NUMBER TILE COTTAGE GARDEN No\n",
      "POLYESTER FILLER PAD 30CMx30CM\n",
      "POLYESTER FILLER PAD 60x40cm\n",
      "FLOWERS HANDBAG blue and orange\n",
      "Next Day Carriage\n",
      "THE KING GIFT BAG 25x24x12cm\n",
      "High Resolution Image\n"
     ]
    }
   ],
   "source": [
    "anomaly_desc = df[df['Description'].str.contains('[a-z]',regex=True)]['Description']\n",
    "for desc in anomaly_desc.unique():\n",
    "  print(desc)"
   ]
  },
  {
   "cell_type": "markdown",
   "id": "6a3258b9",
   "metadata": {
    "papermill": {
     "duration": 0.02161,
     "end_time": "2025-01-26T16:34:48.869741",
     "exception": false,
     "start_time": "2025-01-26T16:34:48.848131",
     "status": "completed"
    },
    "tags": []
   },
   "source": [
    " The descriptions **Next Day Carriage** and **High Resolution Image** are identified as\n",
    " anomalies. Calculating the number of records with these descriptions is necessary,\n",
    " followed by appropriate handling to ensure data consistency and accuracy in the\n",
    " analysis"
   ]
  },
  {
   "cell_type": "code",
   "execution_count": 19,
   "id": "bd4984b8",
   "metadata": {
    "execution": {
     "iopub.execute_input": "2025-01-26T16:34:48.915134Z",
     "iopub.status.busy": "2025-01-26T16:34:48.914761Z",
     "iopub.status.idle": "2025-01-26T16:34:48.982586Z",
     "shell.execute_reply": "2025-01-26T16:34:48.981481Z"
    },
    "papermill": {
     "duration": 0.092734,
     "end_time": "2025-01-26T16:34:48.984673",
     "exception": false,
     "start_time": "2025-01-26T16:34:48.891939",
     "status": "completed"
    },
    "tags": []
   },
   "outputs": [
    {
     "data": {
      "text/plain": [
       "82"
      ]
     },
     "execution_count": 19,
     "metadata": {},
     "output_type": "execute_result"
    }
   ],
   "source": [
    "df[(df['Description'] == 'Next Day Carriage') | (df['Description'] == 'High Resolution Image')].shape[0]"
   ]
  },
  {
   "cell_type": "code",
   "execution_count": 20,
   "id": "804948ab",
   "metadata": {
    "execution": {
     "iopub.execute_input": "2025-01-26T16:34:49.031328Z",
     "iopub.status.busy": "2025-01-26T16:34:49.030892Z",
     "iopub.status.idle": "2025-01-26T16:34:49.114578Z",
     "shell.execute_reply": "2025-01-26T16:34:49.113324Z"
    },
    "papermill": {
     "duration": 0.109468,
     "end_time": "2025-01-26T16:34:49.116668",
     "exception": false,
     "start_time": "2025-01-26T16:34:49.007200",
     "status": "completed"
    },
    "tags": []
   },
   "outputs": [],
   "source": [
    "df = df[~((df['Description'] == 'Next Day Carriage') | (df['Description'] == 'High Resolution Image'))]"
   ]
  },
  {
   "cell_type": "markdown",
   "id": "2475cb61",
   "metadata": {
    "papermill": {
     "duration": 0.021699,
     "end_time": "2025-01-26T16:34:49.161289",
     "exception": false,
     "start_time": "2025-01-26T16:34:49.139590",
     "status": "completed"
    },
    "tags": []
   },
   "source": [
    "There are only **82 records** with the anomalies \"Next Day Carriage\" and \"High Resolution\n",
    "Image\". These records have been removed to maintain the quality and consistency of the\n",
    "dataset."
   ]
  },
  {
   "cell_type": "code",
   "execution_count": 21,
   "id": "7554da7f",
   "metadata": {
    "execution": {
     "iopub.execute_input": "2025-01-26T16:34:49.206588Z",
     "iopub.status.busy": "2025-01-26T16:34:49.206228Z",
     "iopub.status.idle": "2025-01-26T16:34:49.252670Z",
     "shell.execute_reply": "2025-01-26T16:34:49.251538Z"
    },
    "papermill": {
     "duration": 0.071296,
     "end_time": "2025-01-26T16:34:49.254616",
     "exception": false,
     "start_time": "2025-01-26T16:34:49.183320",
     "status": "completed"
    },
    "tags": []
   },
   "outputs": [
    {
     "data": {
      "text/html": [
       "<div>\n",
       "<style scoped>\n",
       "    .dataframe tbody tr th:only-of-type {\n",
       "        vertical-align: middle;\n",
       "    }\n",
       "\n",
       "    .dataframe tbody tr th {\n",
       "        vertical-align: top;\n",
       "    }\n",
       "\n",
       "    .dataframe thead th {\n",
       "        text-align: right;\n",
       "    }\n",
       "</style>\n",
       "<table border=\"1\" class=\"dataframe\">\n",
       "  <thead>\n",
       "    <tr style=\"text-align: right;\">\n",
       "      <th></th>\n",
       "      <th>Quantity</th>\n",
       "      <th>UnitPrice</th>\n",
       "    </tr>\n",
       "  </thead>\n",
       "  <tbody>\n",
       "    <tr>\n",
       "      <th>count</th>\n",
       "      <td>391101.000000</td>\n",
       "      <td>391101.000000</td>\n",
       "    </tr>\n",
       "    <tr>\n",
       "      <th>mean</th>\n",
       "      <td>13.182216</td>\n",
       "      <td>2.871599</td>\n",
       "    </tr>\n",
       "    <tr>\n",
       "      <th>std</th>\n",
       "      <td>181.926386</td>\n",
       "      <td>4.281346</td>\n",
       "    </tr>\n",
       "    <tr>\n",
       "      <th>min</th>\n",
       "      <td>1.000000</td>\n",
       "      <td>0.000000</td>\n",
       "    </tr>\n",
       "    <tr>\n",
       "      <th>25%</th>\n",
       "      <td>2.000000</td>\n",
       "      <td>1.250000</td>\n",
       "    </tr>\n",
       "    <tr>\n",
       "      <th>50%</th>\n",
       "      <td>6.000000</td>\n",
       "      <td>1.950000</td>\n",
       "    </tr>\n",
       "    <tr>\n",
       "      <th>75%</th>\n",
       "      <td>12.000000</td>\n",
       "      <td>3.750000</td>\n",
       "    </tr>\n",
       "    <tr>\n",
       "      <th>max</th>\n",
       "      <td>80995.000000</td>\n",
       "      <td>649.500000</td>\n",
       "    </tr>\n",
       "  </tbody>\n",
       "</table>\n",
       "</div>"
      ],
      "text/plain": [
       "            Quantity      UnitPrice\n",
       "count  391101.000000  391101.000000\n",
       "mean       13.182216       2.871599\n",
       "std       181.926386       4.281346\n",
       "min         1.000000       0.000000\n",
       "25%         2.000000       1.250000\n",
       "50%         6.000000       1.950000\n",
       "75%        12.000000       3.750000\n",
       "max     80995.000000     649.500000"
      ]
     },
     "execution_count": 21,
     "metadata": {},
     "output_type": "execute_result"
    }
   ],
   "source": [
    "df[['Quantity','UnitPrice']].describe()"
   ]
  },
  {
   "cell_type": "code",
   "execution_count": 22,
   "id": "ce8e1ad5",
   "metadata": {
    "execution": {
     "iopub.execute_input": "2025-01-26T16:34:49.300369Z",
     "iopub.status.busy": "2025-01-26T16:34:49.299898Z",
     "iopub.status.idle": "2025-01-26T16:34:49.334847Z",
     "shell.execute_reply": "2025-01-26T16:34:49.333660Z"
    },
    "papermill": {
     "duration": 0.060093,
     "end_time": "2025-01-26T16:34:49.336906",
     "exception": false,
     "start_time": "2025-01-26T16:34:49.276813",
     "status": "completed"
    },
    "tags": []
   },
   "outputs": [],
   "source": [
    "df = df[df['UnitPrice']>0]"
   ]
  },
  {
   "cell_type": "markdown",
   "id": "12cc8ec3",
   "metadata": {
    "papermill": {
     "duration": 0.022479,
     "end_time": "2025-01-26T16:34:49.381749",
     "exception": false,
     "start_time": "2025-01-26T16:34:49.359270",
     "status": "completed"
    },
    "tags": []
   },
   "source": [
    "The dataset contains records with a UnitPrice of 0, which is invalid. Therefore, only\n",
    "records with a UnitPrice greater than zero have been retained. Additionally, upon\n",
    "examining the descriptive statistics, it is evident that there are outliers in the data that need to be addressed."
   ]
  },
  {
   "cell_type": "code",
   "execution_count": 23,
   "id": "8b1d31dd",
   "metadata": {
    "execution": {
     "iopub.execute_input": "2025-01-26T16:34:49.429816Z",
     "iopub.status.busy": "2025-01-26T16:34:49.429452Z",
     "iopub.status.idle": "2025-01-26T16:34:49.445346Z",
     "shell.execute_reply": "2025-01-26T16:34:49.444283Z"
    },
    "papermill": {
     "duration": 0.042237,
     "end_time": "2025-01-26T16:34:49.447349",
     "exception": false,
     "start_time": "2025-01-26T16:34:49.405112",
     "status": "completed"
    },
    "tags": []
   },
   "outputs": [],
   "source": [
    "df[\"TotalPrice\"] = df[\"Quantity\"]*df[\"UnitPrice\"]"
   ]
  },
  {
   "cell_type": "markdown",
   "id": "44de692b",
   "metadata": {
    "papermill": {
     "duration": 0.022149,
     "end_time": "2025-01-26T16:34:49.492281",
     "exception": false,
     "start_time": "2025-01-26T16:34:49.470132",
     "status": "completed"
    },
    "tags": []
   },
   "source": [
    "<a id=\"1\"></a>\n",
    "# <div style=\"text-align:center; border-radius:25px 70px; padding:9px; color:white; margin:0; font-size:150%; font-family:Pacifico; background-color:#20B2AA; overflow:hidden\"><b>RFM Analysis</b></div>"
   ]
  },
  {
   "cell_type": "markdown",
   "id": "cf9f87a1",
   "metadata": {
    "papermill": {
     "duration": 0.02189,
     "end_time": "2025-01-26T16:34:49.536384",
     "exception": false,
     "start_time": "2025-01-26T16:34:49.514494",
     "status": "completed"
    },
    "tags": []
   },
   "source": [
    "### RFM (Recency, Frequency, Monetary) Analysis\n",
    "\n",
    "RFM analysis is a **customer segmentation technique** used to help businesses understand customer behavior and categorize them into different groups based on their purchasing patterns. It is widely used in marketing and customer relationship management to target specific customer segments effectively.\n",
    "\n",
    "This technique involves **quantitatively ranking** and grouping customers based on the **recency**, **frequency**, and **monetary** total of their recent transactions. The system assigns each customer numerical scores based on these factors to provide an objective analysis, helping businesses identify the best customers and perform targeted marketing campaigns.\n",
    "\n",
    "RFM analysis is based on the marketing adage that **\"80% of your business comes from 20% of your customers.\"**\n",
    "\n",
    "#### 1. **Recency (R)**\n",
    "- **Definition**: How recently a customer made a purchase.\n",
    "- Customers who purchased recently are more likely to respond to promotions.\n",
    "- **Example**: A customer who bought something last week is more valuable than one who bought a year ago.\n",
    "\n",
    "#### 2. **Frequency (F)**\n",
    "- **Definition**: How often a customer makes purchases.\n",
    "- Frequent buyers are more engaged and loyal to the business.\n",
    "- **Example**: A customer who makes frequent purchases is more valuable than one who buys once a year.\n",
    "\n",
    "#### 3. **Monetary (M)**\n",
    "- **Definition**: How much money a customer spends.\n",
    "- Customers who spend more are more valuable.\n",
    "- **Example**: A customer who has spent **\\$5,000** in total is more valuable than one who has spent **\\$1,000**.\n",
    "\n",
    "### How It Works\n",
    "1. **Data Collection**:  \n",
    "   - Last purchase date (Recency)  \n",
    "   - Transaction count (Frequency)  \n",
    "   - Total spend (Monetary)  \n",
    "\n",
    "2. **Scoring**:  \n",
    "   - Customers ranked in quintiles (1-5) for each metric  \n",
    "   ```python\n",
    "   df['R_Score'] = pd.qcut(df['Recency'], 5, labels=[5,4,3,2,1])\n",
    "   df['F_Score'] = pd.qcut(df['Frequency'], 5, labels=[1,2,3,4,5])\n",
    "   df['M_Score'] = pd.qcut(df['Monetary'], 5, labels=[1,2,3,4,5])   "
   ]
  },
  {
   "attachments": {
    "c50a5123-31b2-4817-bcf8-c88c7cc151c6.png": {
     "image/png": "[encoded data removed]"
    }
   },
   "cell_type": "markdown",
   "id": "b1d45345",
   "metadata": {
    "papermill": {
     "duration": 0.023672,
     "end_time": "2025-01-26T16:34:49.582774",
     "exception": false,
     "start_time": "2025-01-26T16:34:49.559102",
     "status": "completed"
    },
    "tags": []
   },
   "source": [
    "![image.png](attachment:c50a5123-31b2-4817-bcf8-c88c7cc151c6.png)"
   ]
  },
  {
   "cell_type": "markdown",
   "id": "1b178fd6",
   "metadata": {
    "papermill": {
     "duration": 0.022592,
     "end_time": "2025-01-26T16:34:49.628060",
     "exception": false,
     "start_time": "2025-01-26T16:34:49.605468",
     "status": "completed"
    },
    "tags": []
   },
   "source": [
    "## Recency"
   ]
  },
  {
   "cell_type": "code",
   "execution_count": 24,
   "id": "05a2f50c",
   "metadata": {
    "execution": {
     "iopub.execute_input": "2025-01-26T16:34:49.675697Z",
     "iopub.status.busy": "2025-01-26T16:34:49.675270Z",
     "iopub.status.idle": "2025-01-26T16:34:50.542715Z",
     "shell.execute_reply": "2025-01-26T16:34:50.541259Z"
    },
    "papermill": {
     "duration": 0.894661,
     "end_time": "2025-01-26T16:34:50.545606",
     "exception": false,
     "start_time": "2025-01-26T16:34:49.650945",
     "status": "completed"
    },
    "tags": []
   },
   "outputs": [
    {
     "data": {
      "text/plain": [
       "CustomerID\n",
       "12346.0    326\n",
       "12347.0      2\n",
       "Name: Recency, dtype: int64"
      ]
     },
     "execution_count": 24,
     "metadata": {},
     "output_type": "execute_result"
    }
   ],
   "source": [
    "df[\"Date\"] = pd.to_datetime(df[\"InvoiceDate\"]) \n",
    "reference_date = max(df[\"Date\"]) + pd.DateOffset(days=1) \n",
    "recency = (reference_date - df.groupby('CustomerID')[\"Date\"].max()).dt.days \n",
    "recency.name = \"Recency\"\n",
    "recency.head(2)"
   ]
  },
  {
   "cell_type": "markdown",
   "id": "1eef3d1f",
   "metadata": {
    "papermill": {
     "duration": 0.024988,
     "end_time": "2025-01-26T16:34:50.595416",
     "exception": false,
     "start_time": "2025-01-26T16:34:50.570428",
     "status": "completed"
    },
    "tags": []
   },
   "source": [
    "## Frequency"
   ]
  },
  {
   "cell_type": "code",
   "execution_count": 25,
   "id": "cbcced35",
   "metadata": {
    "execution": {
     "iopub.execute_input": "2025-01-26T16:34:50.646677Z",
     "iopub.status.busy": "2025-01-26T16:34:50.645958Z",
     "iopub.status.idle": "2025-01-26T16:34:50.668792Z",
     "shell.execute_reply": "2025-01-26T16:34:50.666805Z"
    },
    "papermill": {
     "duration": 0.049498,
     "end_time": "2025-01-26T16:34:50.671194",
     "exception": false,
     "start_time": "2025-01-26T16:34:50.621696",
     "status": "completed"
    },
    "tags": []
   },
   "outputs": [
    {
     "data": {
      "text/plain": [
       "CustomerID\n",
       "12346.0      1\n",
       "12347.0    182\n",
       "Name: Freq, dtype: int64"
      ]
     },
     "execution_count": 25,
     "metadata": {},
     "output_type": "execute_result"
    }
   ],
   "source": [
    "freq = df.groupby('CustomerID')['Date'].count()\n",
    "freq.name = \"Freq\"\n",
    "freq.head(2)"
   ]
  },
  {
   "cell_type": "markdown",
   "id": "5baefcf9",
   "metadata": {
    "papermill": {
     "duration": 0.022721,
     "end_time": "2025-01-26T16:34:50.718556",
     "exception": false,
     "start_time": "2025-01-26T16:34:50.695835",
     "status": "completed"
    },
    "tags": []
   },
   "source": [
    "## Monetary"
   ]
  },
  {
   "cell_type": "code",
   "execution_count": 26,
   "id": "24e73c48",
   "metadata": {
    "execution": {
     "iopub.execute_input": "2025-01-26T16:34:50.766913Z",
     "iopub.status.busy": "2025-01-26T16:34:50.766535Z",
     "iopub.status.idle": "2025-01-26T16:34:50.789533Z",
     "shell.execute_reply": "2025-01-26T16:34:50.788280Z"
    },
    "papermill": {
     "duration": 0.050191,
     "end_time": "2025-01-26T16:34:50.791624",
     "exception": false,
     "start_time": "2025-01-26T16:34:50.741433",
     "status": "completed"
    },
    "tags": []
   },
   "outputs": [
    {
     "data": {
      "text/plain": [
       "CustomerID\n",
       "12346.0    77183.6\n",
       "12347.0     4310.0\n",
       "Name: Monetary, dtype: float64"
      ]
     },
     "execution_count": 26,
     "metadata": {},
     "output_type": "execute_result"
    }
   ],
   "source": [
    "monetary = df.groupby('CustomerID')['TotalPrice'].sum()\n",
    "monetary.name = \"Monetary\"\n",
    "monetary.head(2)"
   ]
  },
  {
   "cell_type": "code",
   "execution_count": 27,
   "id": "0f01a748",
   "metadata": {
    "execution": {
     "iopub.execute_input": "2025-01-26T16:34:50.844029Z",
     "iopub.status.busy": "2025-01-26T16:34:50.843684Z",
     "iopub.status.idle": "2025-01-26T16:34:50.850589Z",
     "shell.execute_reply": "2025-01-26T16:34:50.849323Z"
    },
    "papermill": {
     "duration": 0.035259,
     "end_time": "2025-01-26T16:34:50.852751",
     "exception": false,
     "start_time": "2025-01-26T16:34:50.817492",
     "status": "completed"
    },
    "tags": []
   },
   "outputs": [],
   "source": [
    "recency_df = recency.reset_index()\n",
    "recency_df.columns = ['CustomerID', 'Recency']\n",
    "frequency_df = freq.reset_index()"
   ]
  },
  {
   "cell_type": "code",
   "execution_count": 28,
   "id": "60e3a4c4",
   "metadata": {
    "execution": {
     "iopub.execute_input": "2025-01-26T16:34:50.911531Z",
     "iopub.status.busy": "2025-01-26T16:34:50.911064Z",
     "iopub.status.idle": "2025-01-26T16:34:50.929648Z",
     "shell.execute_reply": "2025-01-26T16:34:50.928341Z"
    },
    "papermill": {
     "duration": 0.053715,
     "end_time": "2025-01-26T16:34:50.932109",
     "exception": false,
     "start_time": "2025-01-26T16:34:50.878394",
     "status": "completed"
    },
    "tags": []
   },
   "outputs": [],
   "source": [
    "frequency_df.columns = ['CustomerID', 'Frequency']\n",
    "monetary_df = monetary.reset_index()\n",
    "monetary_df.columns = ['CustomerID', 'Monetary']\n",
    "rfm = recency_df.merge(frequency_df, on=\"CustomerID\").merge(monetary_df, on=\"CustomerID\")"
   ]
  },
  {
   "cell_type": "code",
   "execution_count": 29,
   "id": "14cec064",
   "metadata": {
    "execution": {
     "iopub.execute_input": "2025-01-26T16:34:50.981240Z",
     "iopub.status.busy": "2025-01-26T16:34:50.980846Z",
     "iopub.status.idle": "2025-01-26T16:34:50.987195Z",
     "shell.execute_reply": "2025-01-26T16:34:50.985975Z"
    },
    "papermill": {
     "duration": 0.033903,
     "end_time": "2025-01-26T16:34:50.989327",
     "exception": false,
     "start_time": "2025-01-26T16:34:50.955424",
     "status": "completed"
    },
    "tags": []
   },
   "outputs": [],
   "source": [
    "rfm = rfm.set_index('CustomerID')"
   ]
  },
  {
   "cell_type": "code",
   "execution_count": 30,
   "id": "81f726ec",
   "metadata": {
    "execution": {
     "iopub.execute_input": "2025-01-26T16:34:51.038878Z",
     "iopub.status.busy": "2025-01-26T16:34:51.038473Z",
     "iopub.status.idle": "2025-01-26T16:34:51.058759Z",
     "shell.execute_reply": "2025-01-26T16:34:51.057440Z"
    },
    "papermill": {
     "duration": 0.047409,
     "end_time": "2025-01-26T16:34:51.060724",
     "exception": false,
     "start_time": "2025-01-26T16:34:51.013315",
     "status": "completed"
    },
    "tags": []
   },
   "outputs": [
    {
     "data": {
      "text/html": [
       "<div>\n",
       "<style scoped>\n",
       "    .dataframe tbody tr th:only-of-type {\n",
       "        vertical-align: middle;\n",
       "    }\n",
       "\n",
       "    .dataframe tbody tr th {\n",
       "        vertical-align: top;\n",
       "    }\n",
       "\n",
       "    .dataframe thead th {\n",
       "        text-align: right;\n",
       "    }\n",
       "</style>\n",
       "<table border=\"1\" class=\"dataframe\">\n",
       "  <thead>\n",
       "    <tr style=\"text-align: right;\">\n",
       "      <th></th>\n",
       "      <th>Recency</th>\n",
       "      <th>Frequency</th>\n",
       "      <th>Monetary</th>\n",
       "    </tr>\n",
       "  </thead>\n",
       "  <tbody>\n",
       "    <tr>\n",
       "      <th>count</th>\n",
       "      <td>4334.000000</td>\n",
       "      <td>4334.000000</td>\n",
       "      <td>4334.000000</td>\n",
       "    </tr>\n",
       "    <tr>\n",
       "      <th>mean</th>\n",
       "      <td>92.703046</td>\n",
       "      <td>90.232580</td>\n",
       "      <td>2015.690042</td>\n",
       "    </tr>\n",
       "    <tr>\n",
       "      <th>std</th>\n",
       "      <td>100.177047</td>\n",
       "      <td>224.707914</td>\n",
       "      <td>8903.655720</td>\n",
       "    </tr>\n",
       "    <tr>\n",
       "      <th>min</th>\n",
       "      <td>1.000000</td>\n",
       "      <td>1.000000</td>\n",
       "      <td>3.750000</td>\n",
       "    </tr>\n",
       "    <tr>\n",
       "      <th>25%</th>\n",
       "      <td>18.000000</td>\n",
       "      <td>17.000000</td>\n",
       "      <td>304.240000</td>\n",
       "    </tr>\n",
       "    <tr>\n",
       "      <th>50%</th>\n",
       "      <td>51.000000</td>\n",
       "      <td>41.000000</td>\n",
       "      <td>661.420000</td>\n",
       "    </tr>\n",
       "    <tr>\n",
       "      <th>75%</th>\n",
       "      <td>143.000000</td>\n",
       "      <td>98.000000</td>\n",
       "      <td>1631.622500</td>\n",
       "    </tr>\n",
       "    <tr>\n",
       "      <th>max</th>\n",
       "      <td>374.000000</td>\n",
       "      <td>7667.000000</td>\n",
       "      <td>279138.020000</td>\n",
       "    </tr>\n",
       "  </tbody>\n",
       "</table>\n",
       "</div>"
      ],
      "text/plain": [
       "           Recency    Frequency       Monetary\n",
       "count  4334.000000  4334.000000    4334.000000\n",
       "mean     92.703046    90.232580    2015.690042\n",
       "std     100.177047   224.707914    8903.655720\n",
       "min       1.000000     1.000000       3.750000\n",
       "25%      18.000000    17.000000     304.240000\n",
       "50%      51.000000    41.000000     661.420000\n",
       "75%     143.000000    98.000000    1631.622500\n",
       "max     374.000000  7667.000000  279138.020000"
      ]
     },
     "execution_count": 30,
     "metadata": {},
     "output_type": "execute_result"
    }
   ],
   "source": [
    "rfm.describe()"
   ]
  },
  {
   "cell_type": "markdown",
   "id": "ab5abd74",
   "metadata": {
    "papermill": {
     "duration": 0.037729,
     "end_time": "2025-01-26T16:34:51.128703",
     "exception": false,
     "start_time": "2025-01-26T16:34:51.090974",
     "status": "completed"
    },
    "tags": []
   },
   "source": [
    "From `rfm.describe()`, we notice some extreme values (outliers) in the dataset. These\n",
    "outliers can affect our analysis, so we need to identify and handle them using methods\n",
    "like visualization (boxplots) or statistical techniques (IQR, Z-score) for accurate\n",
    "segmentation."
   ]
  },
  {
   "cell_type": "code",
   "execution_count": 31,
   "id": "b7ec06ae",
   "metadata": {
    "execution": {
     "iopub.execute_input": "2025-01-26T16:34:51.183829Z",
     "iopub.status.busy": "2025-01-26T16:34:51.183442Z",
     "iopub.status.idle": "2025-01-26T16:34:51.189029Z",
     "shell.execute_reply": "2025-01-26T16:34:51.187971Z"
    },
    "papermill": {
     "duration": 0.036164,
     "end_time": "2025-01-26T16:34:51.190908",
     "exception": false,
     "start_time": "2025-01-26T16:34:51.154744",
     "status": "completed"
    },
    "tags": []
   },
   "outputs": [],
   "source": [
    " def plot_boxplot(data):\n",
    "  fig,axes = plt.subplots(nrows=1,ncols=3,figsize=(10,4))\n",
    "  for idx,feature in enumerate(data.columns):\n",
    "    sns.boxplot(data=data,x=feature,ax=axes[idx], palette=\"Blues\")\n",
    "    axes[idx].set_xlabel(f'{feature}',fontsize = 10)\n",
    "    axes[idx].set_title(f'Box Plot of {feature}')\n",
    "  plt.tight_layout()\n",
    "  plt.show()"
   ]
  },
  {
   "cell_type": "code",
   "execution_count": 32,
   "id": "49aa8cdd",
   "metadata": {
    "execution": {
     "iopub.execute_input": "2025-01-26T16:34:51.241429Z",
     "iopub.status.busy": "2025-01-26T16:34:51.241017Z",
     "iopub.status.idle": "2025-01-26T16:34:51.627627Z",
     "shell.execute_reply": "2025-01-26T16:34:51.626416Z"
    },
    "papermill": {
     "duration": 0.413732,
     "end_time": "2025-01-26T16:34:51.629453",
     "exception": false,
     "start_time": "2025-01-26T16:34:51.215721",
     "status": "completed"
    },
    "tags": []
   },
   "outputs": [
    {
     "data": {
      "image/png": "[encoded data removed]",
      "text/plain": [
       "<Figure size 1000x400 with 3 Axes>"
      ]
     },
     "metadata": {},
     "output_type": "display_data"
    }
   ],
   "source": [
    "plot_boxplot(rfm)"
   ]
  },
  {
   "cell_type": "markdown",
   "id": "555c9b5e",
   "metadata": {
    "papermill": {
     "duration": 0.02315,
     "end_time": "2025-01-26T16:34:51.677107",
     "exception": false,
     "start_time": "2025-01-26T16:34:51.653957",
     "status": "completed"
    },
    "tags": []
   },
   "source": [
    "### Observations from Boxplots\n",
    "\n",
    "From the boxplots, we observe the following:\n",
    "\n",
    "- **Recency** has a few outliers, indicating that most of the data points are concentrated within a small range, but there are some values that deviate significantly.\n",
    "- **Frequency** and **Monetary** show many outliers, suggesting a wider spread of values and potentially a diverse set of customer behaviors.\n",
    "\n",
    "To gain a deeper understanding of their distributions, we will perform further analysis using **Kernel Density Estimation (KDE) plots**."
   ]
  },
  {
   "cell_type": "code",
   "execution_count": 33,
   "id": "900c15bb",
   "metadata": {
    "execution": {
     "iopub.execute_input": "2025-01-26T16:34:51.726991Z",
     "iopub.status.busy": "2025-01-26T16:34:51.726637Z",
     "iopub.status.idle": "2025-01-26T16:34:51.732569Z",
     "shell.execute_reply": "2025-01-26T16:34:51.731434Z"
    },
    "papermill": {
     "duration": 0.033098,
     "end_time": "2025-01-26T16:34:51.734687",
     "exception": false,
     "start_time": "2025-01-26T16:34:51.701589",
     "status": "completed"
    },
    "tags": []
   },
   "outputs": [],
   "source": [
    "def plot_distribution(data):\n",
    "    fig,axes = plt.subplots(nrows=1,ncols=3,figsize=(10,4))\n",
    "    for idx,feature in enumerate(data.columns):\n",
    "        sns.histplot(data=data,x=feature, palette=\"Blues\",ax=axes[idx],kde=True)\n",
    "        axes[idx].set_xlabel(f'{feature}',fontsize = 10)\n",
    "        axes[idx].set_title(f'Box Plot of {feature}')\n",
    "    plt.tight_layout()\n",
    "    plt.show()"
   ]
  },
  {
   "cell_type": "code",
   "execution_count": 34,
   "id": "0e66cf45",
   "metadata": {
    "execution": {
     "iopub.execute_input": "2025-01-26T16:34:51.784294Z",
     "iopub.status.busy": "2025-01-26T16:34:51.783881Z",
     "iopub.status.idle": "2025-01-26T16:34:56.147579Z",
     "shell.execute_reply": "2025-01-26T16:34:56.146436Z"
    },
    "papermill": {
     "duration": 4.390626,
     "end_time": "2025-01-26T16:34:56.149516",
     "exception": false,
     "start_time": "2025-01-26T16:34:51.758890",
     "status": "completed"
    },
    "tags": []
   },
   "outputs": [
    {
     "data": {
      "image/png": "[encoded data removed]",
      "text/plain": [
       "<Figure size 1000x400 with 3 Axes>"
      ]
     },
     "metadata": {},
     "output_type": "display_data"
    }
   ],
   "source": [
    "plot_distribution(rfm)"
   ]
  },
  {
   "cell_type": "markdown",
   "id": "2ee1e04a",
   "metadata": {
    "papermill": {
     "duration": 0.025178,
     "end_time": "2025-01-26T16:34:56.202200",
     "exception": false,
     "start_time": "2025-01-26T16:34:56.177022",
     "status": "completed"
    },
    "tags": []
   },
   "source": [
    "### Skewness in RFM Variables\n",
    "\n",
    "The **Recency**, **Frequency**, and **Monetary** variables are right-skewed, meaning that the majority of the values are concentrated on the lower end, with a few higher values creating a long tail. \n",
    "\n",
    "To address this skewness and reduce the impact of outliers, applying a **log-normal transformation** can help. This transformation can make the distribution more balanced and improve the modeling process by stabilizing variance and making patterns more consistent.\n"
   ]
  },
  {
   "cell_type": "code",
   "execution_count": 35,
   "id": "aa2d9b04",
   "metadata": {
    "execution": {
     "iopub.execute_input": "2025-01-26T16:34:56.252241Z",
     "iopub.status.busy": "2025-01-26T16:34:56.251822Z",
     "iopub.status.idle": "2025-01-26T16:34:56.260819Z",
     "shell.execute_reply": "2025-01-26T16:34:56.259684Z"
    },
    "papermill": {
     "duration": 0.035971,
     "end_time": "2025-01-26T16:34:56.262708",
     "exception": false,
     "start_time": "2025-01-26T16:34:56.226737",
     "status": "completed"
    },
    "tags": []
   },
   "outputs": [],
   "source": [
    "\n",
    "rfm['Recency'] = np.log1p(rfm['Recency'])\n",
    "rfm['Frequency'] = np.log1p(rfm['Frequency'])\n",
    "rfm['Monetary'] = np.log1p(rfm['Monetary'])"
   ]
  },
  {
   "cell_type": "code",
   "execution_count": 36,
   "id": "6f5cea21",
   "metadata": {
    "execution": {
     "iopub.execute_input": "2025-01-26T16:34:56.312562Z",
     "iopub.status.busy": "2025-01-26T16:34:56.312183Z",
     "iopub.status.idle": "2025-01-26T16:34:57.163677Z",
     "shell.execute_reply": "2025-01-26T16:34:57.162492Z"
    },
    "papermill": {
     "duration": 0.878682,
     "end_time": "2025-01-26T16:34:57.165744",
     "exception": false,
     "start_time": "2025-01-26T16:34:56.287062",
     "status": "completed"
    },
    "tags": []
   },
   "outputs": [
    {
     "data": {
      "image/png": "[encoded data removed]",
      "text/plain": [
       "<Figure size 1000x400 with 3 Axes>"
      ]
     },
     "metadata": {},
     "output_type": "display_data"
    }
   ],
   "source": [
    "plot_distribution(rfm)"
   ]
  },
  {
   "cell_type": "markdown",
   "id": "1ffa4dff",
   "metadata": {
    "papermill": {
     "duration": 0.025265,
     "end_time": "2025-01-26T16:34:57.217995",
     "exception": false,
     "start_time": "2025-01-26T16:34:57.192730",
     "status": "completed"
    },
    "tags": []
   },
   "source": [
    "### Effect of Log Transformation\n",
    "\n",
    "After applying the **log transformation**, we observe the following improvements:\n",
    "\n",
    "- Both **Frequency** and **Monetary** now follow a **normal distribution**, which indicates that the data is more evenly spread and less affected by outliers.\n",
    "- This transformation has made the data more balanced, which is important for many statistical and machine learning models that assume normally distributed data.\n",
    "\n",
    "This adjustment improves the suitability of the data for further analysis and modeling."
   ]
  },
  {
   "cell_type": "code",
   "execution_count": 37,
   "id": "2000d484",
   "metadata": {
    "execution": {
     "iopub.execute_input": "2025-01-26T16:34:57.271327Z",
     "iopub.status.busy": "2025-01-26T16:34:57.270782Z",
     "iopub.status.idle": "2025-01-26T16:34:57.651996Z",
     "shell.execute_reply": "2025-01-26T16:34:57.650489Z"
    },
    "papermill": {
     "duration": 0.409953,
     "end_time": "2025-01-26T16:34:57.654248",
     "exception": false,
     "start_time": "2025-01-26T16:34:57.244295",
     "status": "completed"
    },
    "tags": []
   },
   "outputs": [
    {
     "data": {
      "image/png": "[encoded data removed]",
      "text/plain": [
       "<Figure size 1000x400 with 3 Axes>"
      ]
     },
     "metadata": {},
     "output_type": "display_data"
    }
   ],
   "source": [
    " plot_boxplot(rfm)"
   ]
  },
  {
   "cell_type": "markdown",
   "id": "dbc1d3af",
   "metadata": {
    "papermill": {
     "duration": 0.025701,
     "end_time": "2025-01-26T16:34:57.706598",
     "exception": false,
     "start_time": "2025-01-26T16:34:57.680897",
     "status": "completed"
    },
    "tags": []
   },
   "source": [
    "### Post-Log Transformation Analysis\n",
    "\n",
    "From the boxplots, we observe that after applying the **log transformation**, **Frequency** and **Monetary** still have a few outliers. While these outliers are less pronounced compared to the original data, they can still impact the accuracy of segmentation.\n",
    "\n",
    "To handle these remaining outliers effectively, we can use the **Interquartile Range (IQR)** method. This technique will help in identifying and removing outliers, ensuring better accuracy in customer segmentation and overall analysis.\n"
   ]
  },
  {
   "cell_type": "code",
   "execution_count": 38,
   "id": "8584cf3e",
   "metadata": {
    "execution": {
     "iopub.execute_input": "2025-01-26T16:34:57.759897Z",
     "iopub.status.busy": "2025-01-26T16:34:57.759506Z",
     "iopub.status.idle": "2025-01-26T16:34:57.779582Z",
     "shell.execute_reply": "2025-01-26T16:34:57.778423Z"
    },
    "papermill": {
     "duration": 0.049237,
     "end_time": "2025-01-26T16:34:57.781667",
     "exception": false,
     "start_time": "2025-01-26T16:34:57.732430",
     "status": "completed"
    },
    "tags": []
   },
   "outputs": [
    {
     "data": {
      "text/html": [
       "<div>\n",
       "<style scoped>\n",
       "    .dataframe tbody tr th:only-of-type {\n",
       "        vertical-align: middle;\n",
       "    }\n",
       "\n",
       "    .dataframe tbody tr th {\n",
       "        vertical-align: top;\n",
       "    }\n",
       "\n",
       "    .dataframe thead th {\n",
       "        text-align: right;\n",
       "    }\n",
       "</style>\n",
       "<table border=\"1\" class=\"dataframe\">\n",
       "  <thead>\n",
       "    <tr style=\"text-align: right;\">\n",
       "      <th></th>\n",
       "      <th>Recency</th>\n",
       "      <th>Frequency</th>\n",
       "      <th>Monetary</th>\n",
       "    </tr>\n",
       "  </thead>\n",
       "  <tbody>\n",
       "    <tr>\n",
       "      <th>count</th>\n",
       "      <td>4334.000000</td>\n",
       "      <td>4334.000000</td>\n",
       "      <td>4334.000000</td>\n",
       "    </tr>\n",
       "    <tr>\n",
       "      <th>mean</th>\n",
       "      <td>3.832072</td>\n",
       "      <td>3.724842</td>\n",
       "      <td>6.575070</td>\n",
       "    </tr>\n",
       "    <tr>\n",
       "      <th>std</th>\n",
       "      <td>1.340772</td>\n",
       "      <td>1.246148</td>\n",
       "      <td>1.255304</td>\n",
       "    </tr>\n",
       "    <tr>\n",
       "      <th>min</th>\n",
       "      <td>0.693147</td>\n",
       "      <td>0.693147</td>\n",
       "      <td>1.558145</td>\n",
       "    </tr>\n",
       "    <tr>\n",
       "      <th>25%</th>\n",
       "      <td>2.944439</td>\n",
       "      <td>2.890372</td>\n",
       "      <td>5.721098</td>\n",
       "    </tr>\n",
       "    <tr>\n",
       "      <th>50%</th>\n",
       "      <td>3.951244</td>\n",
       "      <td>3.737670</td>\n",
       "      <td>6.495900</td>\n",
       "    </tr>\n",
       "    <tr>\n",
       "      <th>75%</th>\n",
       "      <td>4.969813</td>\n",
       "      <td>4.595120</td>\n",
       "      <td>7.397943</td>\n",
       "    </tr>\n",
       "    <tr>\n",
       "      <th>max</th>\n",
       "      <td>5.926926</td>\n",
       "      <td>8.944811</td>\n",
       "      <td>12.539465</td>\n",
       "    </tr>\n",
       "  </tbody>\n",
       "</table>\n",
       "</div>"
      ],
      "text/plain": [
       "           Recency    Frequency     Monetary\n",
       "count  4334.000000  4334.000000  4334.000000\n",
       "mean      3.832072     3.724842     6.575070\n",
       "std       1.340772     1.246148     1.255304\n",
       "min       0.693147     0.693147     1.558145\n",
       "25%       2.944439     2.890372     5.721098\n",
       "50%       3.951244     3.737670     6.495900\n",
       "75%       4.969813     4.595120     7.397943\n",
       "max       5.926926     8.944811    12.539465"
      ]
     },
     "execution_count": 38,
     "metadata": {},
     "output_type": "execute_result"
    }
   ],
   "source": [
    "rfm.describe()"
   ]
  },
  {
   "cell_type": "code",
   "execution_count": 39,
   "id": "ac06babc",
   "metadata": {
    "execution": {
     "iopub.execute_input": "2025-01-26T16:34:57.837601Z",
     "iopub.status.busy": "2025-01-26T16:34:57.837195Z",
     "iopub.status.idle": "2025-01-26T16:34:58.060815Z",
     "shell.execute_reply": "2025-01-26T16:34:58.059633Z"
    },
    "papermill": {
     "duration": 0.253041,
     "end_time": "2025-01-26T16:34:58.062789",
     "exception": false,
     "start_time": "2025-01-26T16:34:57.809748",
     "status": "completed"
    },
    "tags": []
   },
   "outputs": [
    {
     "data": {
      "image/png": "[encoded data removed]",
      "text/plain": [
       "<Figure size 640x480 with 2 Axes>"
      ]
     },
     "metadata": {},
     "output_type": "display_data"
    }
   ],
   "source": [
    "sns.heatmap(rfm.corr(),annot=True)\n",
    "plt.show()"
   ]
  },
  {
   "cell_type": "markdown",
   "id": "997b5846",
   "metadata": {
    "papermill": {
     "duration": 0.027297,
     "end_time": "2025-01-26T16:34:58.117273",
     "exception": false,
     "start_time": "2025-01-26T16:34:58.089976",
     "status": "completed"
    },
    "tags": []
   },
   "source": [
    "### Correlation Analysis\n",
    "\n",
    "From the **correlation analysis**, we observe the following relationships:\n",
    "\n",
    "- **Recency** has a **negative correlation** with both **Frequency** and **Monetary**. This is logical, as customers who make purchases more frequently tend to have lower recency values (i.e., they made their last purchase more recently).\n",
    "  \n",
    "- **Frequency** and **Monetary** show a **positive correlation**, indicating that customers who purchase frequently also tend to spend more. This suggests that frequent buyers are more engaged and contribute more to the overall revenue.\n",
    "\n",
    "These insights help in understanding customer behavior and can guide marketing strategies for different segments.\n"
   ]
  },
  {
   "cell_type": "markdown",
   "id": "bae3bf76",
   "metadata": {
    "papermill": {
     "duration": 0.0263,
     "end_time": "2025-01-26T16:34:58.170348",
     "exception": false,
     "start_time": "2025-01-26T16:34:58.144048",
     "status": "completed"
    },
    "tags": []
   },
   "source": [
    "## Outliers"
   ]
  },
  {
   "cell_type": "code",
   "execution_count": 40,
   "id": "9ab1d6c5",
   "metadata": {
    "execution": {
     "iopub.execute_input": "2025-01-26T16:34:58.225842Z",
     "iopub.status.busy": "2025-01-26T16:34:58.225488Z",
     "iopub.status.idle": "2025-01-26T16:34:58.231271Z",
     "shell.execute_reply": "2025-01-26T16:34:58.230035Z"
    },
    "papermill": {
     "duration": 0.036225,
     "end_time": "2025-01-26T16:34:58.233193",
     "exception": false,
     "start_time": "2025-01-26T16:34:58.196968",
     "status": "completed"
    },
    "tags": []
   },
   "outputs": [],
   "source": [
    "def IQR_outlier(data,col):\n",
    " Q1 = data[col].quantile(0.25)\n",
    " Q3 = data[col].quantile(0.75)\n",
    " IQR = Q3 - Q1\n",
    " lower_bound = Q1 - 1.5*IQR\n",
    " upper_bound = Q3 + 1.5*IQR\n",
    " outliers = data[(data[col] < lower_bound) | (data[col] > upper_bound)]\n",
    " print(f\"Number of Outliers in {col} : {outliers.shape[0]}\")\n",
    " return lower_bound,upper_bound"
   ]
  },
  {
   "cell_type": "code",
   "execution_count": 41,
   "id": "e51dd639",
   "metadata": {
    "execution": {
     "iopub.execute_input": "2025-01-26T16:34:58.289018Z",
     "iopub.status.busy": "2025-01-26T16:34:58.288608Z",
     "iopub.status.idle": "2025-01-26T16:34:58.298957Z",
     "shell.execute_reply": "2025-01-26T16:34:58.297639Z"
    },
    "papermill": {
     "duration": 0.040469,
     "end_time": "2025-01-26T16:34:58.300851",
     "exception": false,
     "start_time": "2025-01-26T16:34:58.260382",
     "status": "completed"
    },
    "tags": []
   },
   "outputs": [
    {
     "name": "stdout",
     "output_type": "stream",
     "text": [
      "Number of Outliers in Frequency : 12\n"
     ]
    }
   ],
   "source": [
    "lower_bound,upper_bound = IQR_outlier(rfm,'Frequency')\n",
    "rfm = rfm[(rfm['Frequency'] > lower_bound) &(rfm['Frequency'] < upper_bound)]"
   ]
  },
  {
   "cell_type": "code",
   "execution_count": 42,
   "id": "d64ffe25",
   "metadata": {
    "execution": {
     "iopub.execute_input": "2025-01-26T16:34:58.356703Z",
     "iopub.status.busy": "2025-01-26T16:34:58.356318Z",
     "iopub.status.idle": "2025-01-26T16:34:58.366604Z",
     "shell.execute_reply": "2025-01-26T16:34:58.365284Z"
    },
    "papermill": {
     "duration": 0.040887,
     "end_time": "2025-01-26T16:34:58.368868",
     "exception": false,
     "start_time": "2025-01-26T16:34:58.327981",
     "status": "completed"
    },
    "tags": []
   },
   "outputs": [
    {
     "name": "stdout",
     "output_type": "stream",
     "text": [
      "Number of Outliers in Monetary : 44\n"
     ]
    }
   ],
   "source": [
    "lower_bound,upper_bound = IQR_outlier(rfm,'Monetary')\n",
    "rfm = rfm[(rfm['Monetary'] > lower_bound) &(rfm['Monetary'] < upper_bound)]"
   ]
  },
  {
   "cell_type": "code",
   "execution_count": 43,
   "id": "a0245763",
   "metadata": {
    "execution": {
     "iopub.execute_input": "2025-01-26T16:34:58.426251Z",
     "iopub.status.busy": "2025-01-26T16:34:58.425795Z",
     "iopub.status.idle": "2025-01-26T16:34:58.446001Z",
     "shell.execute_reply": "2025-01-26T16:34:58.444723Z"
    },
    "papermill": {
     "duration": 0.051258,
     "end_time": "2025-01-26T16:34:58.448430",
     "exception": false,
     "start_time": "2025-01-26T16:34:58.397172",
     "status": "completed"
    },
    "tags": []
   },
   "outputs": [
    {
     "data": {
      "text/html": [
       "<div>\n",
       "<style scoped>\n",
       "    .dataframe tbody tr th:only-of-type {\n",
       "        vertical-align: middle;\n",
       "    }\n",
       "\n",
       "    .dataframe tbody tr th {\n",
       "        vertical-align: top;\n",
       "    }\n",
       "\n",
       "    .dataframe thead th {\n",
       "        text-align: right;\n",
       "    }\n",
       "</style>\n",
       "<table border=\"1\" class=\"dataframe\">\n",
       "  <thead>\n",
       "    <tr style=\"text-align: right;\">\n",
       "      <th></th>\n",
       "      <th>Recency</th>\n",
       "      <th>Frequency</th>\n",
       "      <th>Monetary</th>\n",
       "    </tr>\n",
       "  </thead>\n",
       "  <tbody>\n",
       "    <tr>\n",
       "      <th>count</th>\n",
       "      <td>4278.000000</td>\n",
       "      <td>4278.000000</td>\n",
       "      <td>4278.000000</td>\n",
       "    </tr>\n",
       "    <tr>\n",
       "      <th>mean</th>\n",
       "      <td>3.849925</td>\n",
       "      <td>3.710535</td>\n",
       "      <td>6.541597</td>\n",
       "    </tr>\n",
       "    <tr>\n",
       "      <th>std</th>\n",
       "      <td>1.327380</td>\n",
       "      <td>1.212116</td>\n",
       "      <td>1.168768</td>\n",
       "    </tr>\n",
       "    <tr>\n",
       "      <th>min</th>\n",
       "      <td>0.693147</td>\n",
       "      <td>0.693147</td>\n",
       "      <td>3.277145</td>\n",
       "    </tr>\n",
       "    <tr>\n",
       "      <th>25%</th>\n",
       "      <td>2.944439</td>\n",
       "      <td>2.890372</td>\n",
       "      <td>5.719639</td>\n",
       "    </tr>\n",
       "    <tr>\n",
       "      <th>50%</th>\n",
       "      <td>3.960768</td>\n",
       "      <td>3.713572</td>\n",
       "      <td>6.487684</td>\n",
       "    </tr>\n",
       "    <tr>\n",
       "      <th>75%</th>\n",
       "      <td>4.976734</td>\n",
       "      <td>4.584967</td>\n",
       "      <td>7.367336</td>\n",
       "    </tr>\n",
       "    <tr>\n",
       "      <th>max</th>\n",
       "      <td>5.926926</td>\n",
       "      <td>7.141245</td>\n",
       "      <td>9.839104</td>\n",
       "    </tr>\n",
       "  </tbody>\n",
       "</table>\n",
       "</div>"
      ],
      "text/plain": [
       "           Recency    Frequency     Monetary\n",
       "count  4278.000000  4278.000000  4278.000000\n",
       "mean      3.849925     3.710535     6.541597\n",
       "std       1.327380     1.212116     1.168768\n",
       "min       0.693147     0.693147     3.277145\n",
       "25%       2.944439     2.890372     5.719639\n",
       "50%       3.960768     3.713572     6.487684\n",
       "75%       4.976734     4.584967     7.367336\n",
       "max       5.926926     7.141245     9.839104"
      ]
     },
     "execution_count": 43,
     "metadata": {},
     "output_type": "execute_result"
    }
   ],
   "source": [
    "rfm.describe()"
   ]
  },
  {
   "cell_type": "markdown",
   "id": "5dfd3545",
   "metadata": {
    "papermill": {
     "duration": 0.027311,
     "end_time": "2025-01-26T16:34:58.504502",
     "exception": false,
     "start_time": "2025-01-26T16:34:58.477191",
     "status": "completed"
    },
    "tags": []
   },
   "source": [
    "## RFM Scoring"
   ]
  },
  {
   "cell_type": "code",
   "execution_count": 44,
   "id": "390d8280",
   "metadata": {
    "execution": {
     "iopub.execute_input": "2025-01-26T16:34:58.560827Z",
     "iopub.status.busy": "2025-01-26T16:34:58.560487Z",
     "iopub.status.idle": "2025-01-26T16:34:58.582341Z",
     "shell.execute_reply": "2025-01-26T16:34:58.581249Z"
    },
    "papermill": {
     "duration": 0.05258,
     "end_time": "2025-01-26T16:34:58.584412",
     "exception": false,
     "start_time": "2025-01-26T16:34:58.531832",
     "status": "completed"
    },
    "tags": []
   },
   "outputs": [],
   "source": [
    "rfm[\"recency_score\"] = pd.qcut(rfm['Recency'], 5, labels=[5, 4, 3, 2, 1])\n",
    "\n",
    "\n",
    "rfm[\"frequency_score\"] = pd.qcut(rfm['Frequency'].rank(method=\"first\"), 5, labels=[1, 2, 3, 4, 5])\n",
    "\n",
    "\n",
    "rfm[\"monetary_score\"] = pd.qcut(rfm['Monetary'], 5, labels=[1, 2, 3, 4, 5])\n",
    "\n",
    "\n",
    "rfm[\"RFM_SCORE\"] = (rfm['recency_score'].astype(str) +\n",
    "                    rfm['frequency_score'].astype(str))"
   ]
  },
  {
   "cell_type": "code",
   "execution_count": 45,
   "id": "c1b02eb4",
   "metadata": {
    "execution": {
     "iopub.execute_input": "2025-01-26T16:34:58.640030Z",
     "iopub.status.busy": "2025-01-26T16:34:58.639668Z",
     "iopub.status.idle": "2025-01-26T16:34:58.705805Z",
     "shell.execute_reply": "2025-01-26T16:34:58.704397Z"
    },
    "papermill": {
     "duration": 0.096342,
     "end_time": "2025-01-26T16:34:58.708034",
     "exception": false,
     "start_time": "2025-01-26T16:34:58.611692",
     "status": "completed"
    },
    "tags": []
   },
   "outputs": [
    {
     "data": {
      "text/html": [
       "<div>\n",
       "<style scoped>\n",
       "    .dataframe tbody tr th:only-of-type {\n",
       "        vertical-align: middle;\n",
       "    }\n",
       "\n",
       "    .dataframe tbody tr th {\n",
       "        vertical-align: top;\n",
       "    }\n",
       "\n",
       "    .dataframe thead th {\n",
       "        text-align: right;\n",
       "    }\n",
       "</style>\n",
       "<table border=\"1\" class=\"dataframe\">\n",
       "  <thead>\n",
       "    <tr style=\"text-align: right;\">\n",
       "      <th></th>\n",
       "      <th>CustomerID</th>\n",
       "      <th>Recency</th>\n",
       "      <th>Frequency</th>\n",
       "      <th>Monetary</th>\n",
       "      <th>recency_score</th>\n",
       "      <th>frequency_score</th>\n",
       "      <th>monetary_score</th>\n",
       "      <th>RFM_SCORE</th>\n",
       "      <th>segment</th>\n",
       "    </tr>\n",
       "  </thead>\n",
       "  <tbody>\n",
       "    <tr>\n",
       "      <th>0</th>\n",
       "      <td>12347.0</td>\n",
       "      <td>1.098612</td>\n",
       "      <td>5.209486</td>\n",
       "      <td>8.368925</td>\n",
       "      <td>5</td>\n",
       "      <td>5</td>\n",
       "      <td>5</td>\n",
       "      <td>55</td>\n",
       "      <td>champions</td>\n",
       "    </tr>\n",
       "    <tr>\n",
       "      <th>1</th>\n",
       "      <td>12348.0</td>\n",
       "      <td>4.330733</td>\n",
       "      <td>3.332205</td>\n",
       "      <td>7.271175</td>\n",
       "      <td>2</td>\n",
       "      <td>2</td>\n",
       "      <td>4</td>\n",
       "      <td>22</td>\n",
       "      <td>hibernating</td>\n",
       "    </tr>\n",
       "    <tr>\n",
       "      <th>2</th>\n",
       "      <td>12349.0</td>\n",
       "      <td>2.995732</td>\n",
       "      <td>4.290459</td>\n",
       "      <td>7.285198</td>\n",
       "      <td>4</td>\n",
       "      <td>4</td>\n",
       "      <td>4</td>\n",
       "      <td>44</td>\n",
       "      <td>loyal_customers</td>\n",
       "    </tr>\n",
       "    <tr>\n",
       "      <th>3</th>\n",
       "      <td>12350.0</td>\n",
       "      <td>5.739793</td>\n",
       "      <td>2.833213</td>\n",
       "      <td>5.688330</td>\n",
       "      <td>1</td>\n",
       "      <td>2</td>\n",
       "      <td>2</td>\n",
       "      <td>12</td>\n",
       "      <td>hibernating</td>\n",
       "    </tr>\n",
       "    <tr>\n",
       "      <th>4</th>\n",
       "      <td>12352.0</td>\n",
       "      <td>3.610918</td>\n",
       "      <td>4.356709</td>\n",
       "      <td>7.234711</td>\n",
       "      <td>3</td>\n",
       "      <td>4</td>\n",
       "      <td>4</td>\n",
       "      <td>34</td>\n",
       "      <td>loyal_customers</td>\n",
       "    </tr>\n",
       "  </tbody>\n",
       "</table>\n",
       "</div>"
      ],
      "text/plain": [
       "   CustomerID   Recency  Frequency  Monetary recency_score frequency_score  \\\n",
       "0     12347.0  1.098612   5.209486  8.368925             5               5   \n",
       "1     12348.0  4.330733   3.332205  7.271175             2               2   \n",
       "2     12349.0  2.995732   4.290459  7.285198             4               4   \n",
       "3     12350.0  5.739793   2.833213  5.688330             1               2   \n",
       "4     12352.0  3.610918   4.356709  7.234711             3               4   \n",
       "\n",
       "  monetary_score RFM_SCORE          segment  \n",
       "0              5        55        champions  \n",
       "1              4        22      hibernating  \n",
       "2              4        44  loyal_customers  \n",
       "3              2        12      hibernating  \n",
       "4              4        34  loyal_customers  "
      ]
     },
     "execution_count": 45,
     "metadata": {},
     "output_type": "execute_result"
    }
   ],
   "source": [
    "seg_map = {\n",
    "    r'[1-2][1-2]': 'hibernating',\n",
    "    r'[1-2][3-4]': 'at_Risk',\n",
    "    r'[1-2]5': 'cant_loose',\n",
    "    r'3[1-2]': 'about_to_sleep',\n",
    "    r'33': 'need_attention',\n",
    "    r'[3-4][4-5]': 'loyal_customers',\n",
    "    r'41': 'promising',\n",
    "    r'51': 'new_customers',\n",
    "    r'[4-5][2-3]': 'potential_loyalists',\n",
    "    r'5[4-5]': 'champions'\n",
    "}\n",
    "rfm['segment'] = rfm['RFM_SCORE'].replace(seg_map, regex=True)\n",
    "rfm.reset_index(inplace=True)\n",
    "rfm.head()"
   ]
  },
  {
   "cell_type": "code",
   "execution_count": 46,
   "id": "2428326b",
   "metadata": {
    "execution": {
     "iopub.execute_input": "2025-01-26T16:34:58.765819Z",
     "iopub.status.busy": "2025-01-26T16:34:58.765389Z",
     "iopub.status.idle": "2025-01-26T16:34:58.779676Z",
     "shell.execute_reply": "2025-01-26T16:34:58.778290Z"
    },
    "papermill": {
     "duration": 0.045608,
     "end_time": "2025-01-26T16:34:58.781777",
     "exception": false,
     "start_time": "2025-01-26T16:34:58.736169",
     "status": "completed"
    },
    "tags": []
   },
   "outputs": [
    {
     "data": {
      "text/html": [
       "<div>\n",
       "<style scoped>\n",
       "    .dataframe tbody tr th:only-of-type {\n",
       "        vertical-align: middle;\n",
       "    }\n",
       "\n",
       "    .dataframe tbody tr th {\n",
       "        vertical-align: top;\n",
       "    }\n",
       "\n",
       "    .dataframe thead th {\n",
       "        text-align: right;\n",
       "    }\n",
       "</style>\n",
       "<table border=\"1\" class=\"dataframe\">\n",
       "  <thead>\n",
       "    <tr style=\"text-align: right;\">\n",
       "      <th></th>\n",
       "      <th>segment</th>\n",
       "      <th>count</th>\n",
       "    </tr>\n",
       "  </thead>\n",
       "  <tbody>\n",
       "    <tr>\n",
       "      <th>0</th>\n",
       "      <td>about_to_sleep</td>\n",
       "      <td>316</td>\n",
       "    </tr>\n",
       "    <tr>\n",
       "      <th>1</th>\n",
       "      <td>at_Risk</td>\n",
       "      <td>578</td>\n",
       "    </tr>\n",
       "    <tr>\n",
       "      <th>2</th>\n",
       "      <td>cant_loose</td>\n",
       "      <td>83</td>\n",
       "    </tr>\n",
       "    <tr>\n",
       "      <th>3</th>\n",
       "      <td>champions</td>\n",
       "      <td>616</td>\n",
       "    </tr>\n",
       "    <tr>\n",
       "      <th>4</th>\n",
       "      <td>hibernating</td>\n",
       "      <td>1034</td>\n",
       "    </tr>\n",
       "    <tr>\n",
       "      <th>5</th>\n",
       "      <td>loyal_customers</td>\n",
       "      <td>786</td>\n",
       "    </tr>\n",
       "    <tr>\n",
       "      <th>6</th>\n",
       "      <td>need_attention</td>\n",
       "      <td>200</td>\n",
       "    </tr>\n",
       "    <tr>\n",
       "      <th>7</th>\n",
       "      <td>new_customers</td>\n",
       "      <td>63</td>\n",
       "    </tr>\n",
       "    <tr>\n",
       "      <th>8</th>\n",
       "      <td>potential_loyalists</td>\n",
       "      <td>504</td>\n",
       "    </tr>\n",
       "    <tr>\n",
       "      <th>9</th>\n",
       "      <td>promising</td>\n",
       "      <td>98</td>\n",
       "    </tr>\n",
       "  </tbody>\n",
       "</table>\n",
       "</div>"
      ],
      "text/plain": [
       "               segment  count\n",
       "0       about_to_sleep    316\n",
       "1              at_Risk    578\n",
       "2           cant_loose     83\n",
       "3            champions    616\n",
       "4          hibernating   1034\n",
       "5      loyal_customers    786\n",
       "6       need_attention    200\n",
       "7        new_customers     63\n",
       "8  potential_loyalists    504\n",
       "9            promising     98"
      ]
     },
     "execution_count": 46,
     "metadata": {},
     "output_type": "execute_result"
    }
   ],
   "source": [
    "segments_count = rfm.groupby(\"segment\").agg({\"CustomerID\": \"count\"})\n",
    "segments_count.reset_index(inplace=True)\n",
    "segments_count.columns = ['segment', 'count']\n",
    "segments_count.head(15)"
   ]
  },
  {
   "cell_type": "code",
   "execution_count": 47,
   "id": "25b3051a",
   "metadata": {
    "execution": {
     "iopub.execute_input": "2025-01-26T16:34:58.839464Z",
     "iopub.status.busy": "2025-01-26T16:34:58.839007Z",
     "iopub.status.idle": "2025-01-26T16:34:58.905006Z",
     "shell.execute_reply": "2025-01-26T16:34:58.903820Z"
    },
    "papermill": {
     "duration": 0.096726,
     "end_time": "2025-01-26T16:34:58.906771",
     "exception": false,
     "start_time": "2025-01-26T16:34:58.810045",
     "status": "completed"
    },
    "tags": []
   },
   "outputs": [
    {
     "data": {
      "text/html": [
       "<div>\n",
       "<style scoped>\n",
       "    .dataframe tbody tr th:only-of-type {\n",
       "        vertical-align: middle;\n",
       "    }\n",
       "\n",
       "    .dataframe tbody tr th {\n",
       "        vertical-align: top;\n",
       "    }\n",
       "\n",
       "    .dataframe thead th {\n",
       "        text-align: right;\n",
       "    }\n",
       "</style>\n",
       "<table border=\"1\" class=\"dataframe\">\n",
       "  <thead>\n",
       "    <tr style=\"text-align: right;\">\n",
       "      <th></th>\n",
       "      <th>index</th>\n",
       "      <th>CustomerID</th>\n",
       "      <th>Recency</th>\n",
       "      <th>Frequency</th>\n",
       "      <th>Monetary</th>\n",
       "      <th>recency_score</th>\n",
       "      <th>frequency_score</th>\n",
       "      <th>monetary_score</th>\n",
       "      <th>RFM_SCORE</th>\n",
       "      <th>segment</th>\n",
       "    </tr>\n",
       "  </thead>\n",
       "  <tbody>\n",
       "    <tr>\n",
       "      <th>0</th>\n",
       "      <td>0</td>\n",
       "      <td>12347.0</td>\n",
       "      <td>1.098612</td>\n",
       "      <td>5.209486</td>\n",
       "      <td>8.368925</td>\n",
       "      <td>5</td>\n",
       "      <td>5</td>\n",
       "      <td>5</td>\n",
       "      <td>55</td>\n",
       "      <td>champions</td>\n",
       "    </tr>\n",
       "    <tr>\n",
       "      <th>1</th>\n",
       "      <td>1</td>\n",
       "      <td>12348.0</td>\n",
       "      <td>4.330733</td>\n",
       "      <td>3.332205</td>\n",
       "      <td>7.271175</td>\n",
       "      <td>2</td>\n",
       "      <td>2</td>\n",
       "      <td>4</td>\n",
       "      <td>22</td>\n",
       "      <td>hibernating</td>\n",
       "    </tr>\n",
       "    <tr>\n",
       "      <th>2</th>\n",
       "      <td>2</td>\n",
       "      <td>12349.0</td>\n",
       "      <td>2.995732</td>\n",
       "      <td>4.290459</td>\n",
       "      <td>7.285198</td>\n",
       "      <td>4</td>\n",
       "      <td>4</td>\n",
       "      <td>4</td>\n",
       "      <td>44</td>\n",
       "      <td>loyal_customers</td>\n",
       "    </tr>\n",
       "    <tr>\n",
       "      <th>3</th>\n",
       "      <td>3</td>\n",
       "      <td>12350.0</td>\n",
       "      <td>5.739793</td>\n",
       "      <td>2.833213</td>\n",
       "      <td>5.688330</td>\n",
       "      <td>1</td>\n",
       "      <td>2</td>\n",
       "      <td>2</td>\n",
       "      <td>12</td>\n",
       "      <td>hibernating</td>\n",
       "    </tr>\n",
       "    <tr>\n",
       "      <th>4</th>\n",
       "      <td>4</td>\n",
       "      <td>12352.0</td>\n",
       "      <td>3.610918</td>\n",
       "      <td>4.356709</td>\n",
       "      <td>7.234711</td>\n",
       "      <td>3</td>\n",
       "      <td>4</td>\n",
       "      <td>4</td>\n",
       "      <td>34</td>\n",
       "      <td>loyal_customers</td>\n",
       "    </tr>\n",
       "  </tbody>\n",
       "</table>\n",
       "</div>"
      ],
      "text/plain": [
       "   index  CustomerID   Recency  Frequency  Monetary recency_score  \\\n",
       "0      0     12347.0  1.098612   5.209486  8.368925             5   \n",
       "1      1     12348.0  4.330733   3.332205  7.271175             2   \n",
       "2      2     12349.0  2.995732   4.290459  7.285198             4   \n",
       "3      3     12350.0  5.739793   2.833213  5.688330             1   \n",
       "4      4     12352.0  3.610918   4.356709  7.234711             3   \n",
       "\n",
       "  frequency_score monetary_score RFM_SCORE          segment  \n",
       "0               5              5        55        champions  \n",
       "1               2              4        22      hibernating  \n",
       "2               4              4        44  loyal_customers  \n",
       "3               2              2        12      hibernating  \n",
       "4               4              4        34  loyal_customers  "
      ]
     },
     "execution_count": 47,
     "metadata": {},
     "output_type": "execute_result"
    }
   ],
   "source": [
    "seg_map = {\n",
    "    r'[1-2][1-2]': 'hibernating',\n",
    "    r'[1-2][3-4]': 'at_Risk',\n",
    "    r'[1-2]5': 'cant_loose',\n",
    "    r'3[1-2]': 'about_to_sleep',\n",
    "    r'33': 'need_attention',\n",
    "    r'[3-4][4-5]': 'loyal_customers',\n",
    "    r'41': 'promising',\n",
    "    r'51': 'new_customers',\n",
    "    r'[4-5][2-3]': 'potential_loyalists',\n",
    "    r'5[4-5]': 'champions'\n",
    "}\n",
    "rfm['segment'] = rfm['RFM_SCORE'].replace(seg_map, regex=True)\n",
    "rfm.reset_index(inplace=True)\n",
    "rfm.head()"
   ]
  },
  {
   "cell_type": "code",
   "execution_count": 48,
   "id": "77d47e77",
   "metadata": {
    "execution": {
     "iopub.execute_input": "2025-01-26T16:34:58.963735Z",
     "iopub.status.busy": "2025-01-26T16:34:58.963394Z",
     "iopub.status.idle": "2025-01-26T16:34:59.386112Z",
     "shell.execute_reply": "2025-01-26T16:34:59.384923Z"
    },
    "papermill": {
     "duration": 0.454045,
     "end_time": "2025-01-26T16:34:59.388333",
     "exception": false,
     "start_time": "2025-01-26T16:34:58.934288",
     "status": "completed"
    },
    "tags": []
   },
   "outputs": [
    {
     "data": {
      "image/png": "[encoded data removed]",
      "text/plain": [
       "<Figure size 800x800 with 1 Axes>"
      ]
     },
     "metadata": {},
     "output_type": "display_data"
    }
   ],
   "source": [
    "segment_counts = rfm['segment'].value_counts()\n",
    "\n",
    "# Plot a pie chart\n",
    "plt.figure(figsize=(8, 8))\n",
    "plt.pie(segment_counts, labels=segment_counts.index, autopct='%1.1f%%', startangle=140, colors=plt.cm.Paired.colors)\n",
    "plt.title('Customer Segments Distribution')\n",
    "plt.show()"
   ]
  },
  {
   "cell_type": "markdown",
   "id": "98be2a79",
   "metadata": {
    "papermill": {
     "duration": 0.028718,
     "end_time": "2025-01-26T16:34:59.447190",
     "exception": false,
     "start_time": "2025-01-26T16:34:59.418472",
     "status": "completed"
    },
    "tags": []
   },
   "source": [
    "### Insights on Champions Segment\n",
    "\n",
    "Approximately **14.4%** of customers are classified as **Champions**. These customers contribute significantly to your revenue and should be prioritized in your customer retention strategy. To enhance their experience and maintain their loyalty, consider the following actions:\n",
    "\n",
    "1. **Exclusive Rewards**:\n",
    "   - Provide them with something extra that regular customers do not get, such as limited edition products or special discounts. This makes them feel valued and appreciated.\n",
    "\n",
    "2. **Engage as Ambassadors**:\n",
    "   - Treat them as brand ambassadors by offering incentives for bringing in new customers, such as sharing a margin of your profits or providing referral bonuses.\n",
    "\n",
    "3. **Request Feedback**:\n",
    "   - Seek their feedback on your products and services, as they are likely to have deep insights due to their frequent interactions. Their input can help improve your offerings and enhance overall customer satisfaction.\n",
    "\n",
    "These strategies can help nurture the relationship with Champions and ensure their continued loyalty.\n"
   ]
  },
  {
   "cell_type": "markdown",
   "id": "c4c59111",
   "metadata": {
    "papermill": {
     "duration": 0.028978,
     "end_time": "2025-01-26T16:34:59.506371",
     "exception": false,
     "start_time": "2025-01-26T16:34:59.477393",
     "status": "completed"
    },
    "tags": []
   },
   "source": [
    "<a id=\"1\"></a>\n",
    "# <div style=\"text-align:center; border-radius:25px 70px; padding:9px; color:white; margin:0; font-size:150%; font-family:Pacifico; background-color:#20B2AA; overflow:hidden\"><b>Clustering</b></div>"
   ]
  },
  {
   "cell_type": "code",
   "execution_count": 49,
   "id": "fccc4956",
   "metadata": {
    "execution": {
     "iopub.execute_input": "2025-01-26T16:34:59.565612Z",
     "iopub.status.busy": "2025-01-26T16:34:59.565229Z",
     "iopub.status.idle": "2025-01-26T16:34:59.583507Z",
     "shell.execute_reply": "2025-01-26T16:34:59.582195Z"
    },
    "papermill": {
     "duration": 0.050229,
     "end_time": "2025-01-26T16:34:59.585687",
     "exception": false,
     "start_time": "2025-01-26T16:34:59.535458",
     "status": "completed"
    },
    "tags": []
   },
   "outputs": [],
   "source": [
    "std_scaler = StandardScaler()\n",
    "df_scaled = std_scaler.fit_transform(rfm.iloc[:,2:5])"
   ]
  },
  {
   "cell_type": "code",
   "execution_count": 50,
   "id": "ccb0360c",
   "metadata": {
    "execution": {
     "iopub.execute_input": "2025-01-26T16:34:59.646667Z",
     "iopub.status.busy": "2025-01-26T16:34:59.646277Z",
     "iopub.status.idle": "2025-01-26T16:34:59.657506Z",
     "shell.execute_reply": "2025-01-26T16:34:59.656409Z"
    },
    "papermill": {
     "duration": 0.043356,
     "end_time": "2025-01-26T16:34:59.659343",
     "exception": false,
     "start_time": "2025-01-26T16:34:59.615987",
     "status": "completed"
    },
    "tags": []
   },
   "outputs": [
    {
     "data": {
      "text/html": [
       "<div>\n",
       "<style scoped>\n",
       "    .dataframe tbody tr th:only-of-type {\n",
       "        vertical-align: middle;\n",
       "    }\n",
       "\n",
       "    .dataframe tbody tr th {\n",
       "        vertical-align: top;\n",
       "    }\n",
       "\n",
       "    .dataframe thead th {\n",
       "        text-align: right;\n",
       "    }\n",
       "</style>\n",
       "<table border=\"1\" class=\"dataframe\">\n",
       "  <thead>\n",
       "    <tr style=\"text-align: right;\">\n",
       "      <th></th>\n",
       "      <th>Recency</th>\n",
       "      <th>Frequency</th>\n",
       "      <th>Monetary</th>\n",
       "    </tr>\n",
       "  </thead>\n",
       "  <tbody>\n",
       "    <tr>\n",
       "      <th>0</th>\n",
       "      <td>-2.072981</td>\n",
       "      <td>1.236785</td>\n",
       "      <td>1.563647</td>\n",
       "    </tr>\n",
       "    <tr>\n",
       "      <th>1</th>\n",
       "      <td>0.362266</td>\n",
       "      <td>-0.312161</td>\n",
       "      <td>0.624301</td>\n",
       "    </tr>\n",
       "    <tr>\n",
       "      <th>2</th>\n",
       "      <td>-0.643593</td>\n",
       "      <td>0.478495</td>\n",
       "      <td>0.636300</td>\n",
       "    </tr>\n",
       "    <tr>\n",
       "      <th>3</th>\n",
       "      <td>1.423924</td>\n",
       "      <td>-0.723879</td>\n",
       "      <td>-0.730142</td>\n",
       "    </tr>\n",
       "    <tr>\n",
       "      <th>4</th>\n",
       "      <td>-0.180080</td>\n",
       "      <td>0.533158</td>\n",
       "      <td>0.593098</td>\n",
       "    </tr>\n",
       "  </tbody>\n",
       "</table>\n",
       "</div>"
      ],
      "text/plain": [
       "    Recency  Frequency  Monetary\n",
       "0 -2.072981   1.236785  1.563647\n",
       "1  0.362266  -0.312161  0.624301\n",
       "2 -0.643593   0.478495  0.636300\n",
       "3  1.423924  -0.723879 -0.730142\n",
       "4 -0.180080   0.533158  0.593098"
      ]
     },
     "execution_count": 50,
     "metadata": {},
     "output_type": "execute_result"
    }
   ],
   "source": [
    "df_scaled = pd.DataFrame(df_scaled, columns=['Recency', 'Frequency', 'Monetary'])\n",
    "\n",
    "df_scaled.head()"
   ]
  },
  {
   "cell_type": "code",
   "execution_count": 51,
   "id": "baf1fe1f",
   "metadata": {
    "execution": {
     "iopub.execute_input": "2025-01-26T16:34:59.719704Z",
     "iopub.status.busy": "2025-01-26T16:34:59.719318Z",
     "iopub.status.idle": "2025-01-26T16:34:59.725681Z",
     "shell.execute_reply": "2025-01-26T16:34:59.724601Z"
    },
    "papermill": {
     "duration": 0.038253,
     "end_time": "2025-01-26T16:34:59.727469",
     "exception": false,
     "start_time": "2025-01-26T16:34:59.689216",
     "status": "completed"
    },
    "tags": []
   },
   "outputs": [],
   "source": [
    "df_scaled[\"CustomerID\"] = rfm['CustomerID']\n",
    "df_scaled = df_scaled.set_index(\"CustomerID\")"
   ]
  },
  {
   "cell_type": "markdown",
   "id": "712c1ae9",
   "metadata": {
    "papermill": {
     "duration": 0.030222,
     "end_time": "2025-01-26T16:34:59.788009",
     "exception": false,
     "start_time": "2025-01-26T16:34:59.757787",
     "status": "completed"
    },
    "tags": []
   },
   "source": [
    "`To determine the optimal number of clusters, I will use the elbow method.`"
   ]
  },
  {
   "cell_type": "code",
   "execution_count": 52,
   "id": "88a8b571",
   "metadata": {
    "execution": {
     "iopub.execute_input": "2025-01-26T16:34:59.848094Z",
     "iopub.status.busy": "2025-01-26T16:34:59.847755Z",
     "iopub.status.idle": "2025-01-26T16:35:04.419878Z",
     "shell.execute_reply": "2025-01-26T16:35:04.418592Z"
    },
    "papermill": {
     "duration": 4.604696,
     "end_time": "2025-01-26T16:35:04.422034",
     "exception": false,
     "start_time": "2025-01-26T16:34:59.817338",
     "status": "completed"
    },
    "tags": []
   },
   "outputs": [],
   "source": [
    "inertia = []\n",
    "score = []\n",
    "for i in range(2,15):\n",
    "    kmeans = KMeans(n_clusters=i)\n",
    "    kmeans.fit(df_scaled)\n",
    "    inertia.append(kmeans.inertia_)\n",
    "    score.append(silhouette_score(df_scaled,kmeans.labels_))"
   ]
  },
  {
   "cell_type": "code",
   "execution_count": 53,
   "id": "cfb88b3d",
   "metadata": {
    "execution": {
     "iopub.execute_input": "2025-01-26T16:35:04.488855Z",
     "iopub.status.busy": "2025-01-26T16:35:04.488506Z",
     "iopub.status.idle": "2025-01-26T16:35:04.682250Z",
     "shell.execute_reply": "2025-01-26T16:35:04.680778Z"
    },
    "papermill": {
     "duration": 0.229713,
     "end_time": "2025-01-26T16:35:04.684756",
     "exception": false,
     "start_time": "2025-01-26T16:35:04.455043",
     "status": "completed"
    },
    "tags": []
   },
   "outputs": [
    {
     "data": {
      "image/png": "[encoded data removed]",
      "text/plain": [
       "<Figure size 600x400 with 1 Axes>"
      ]
     },
     "metadata": {},
     "output_type": "display_data"
    }
   ],
   "source": [
    "plt.figure(figsize=(6, 4))\n",
    "plt.plot(range(2, 15), inertia, marker='o')\n",
    "plt.xlabel('Number of Clusters (k)')\n",
    "plt.ylabel('Inertia')\n",
    "plt.title('Elbow Curve for K-means Clustering')\n",
    "plt.show()"
   ]
  },
  {
   "cell_type": "markdown",
   "id": "eeab4783",
   "metadata": {
    "papermill": {
     "duration": 0.029682,
     "end_time": "2025-01-26T16:35:04.746318",
     "exception": false,
     "start_time": "2025-01-26T16:35:04.716636",
     "status": "completed"
    },
    "tags": []
   },
   "source": [
    "### Determining the Optimal Number of Clusters\n",
    "\n",
    "- From the **elbow curve**, we observe that the **inertia** (sum of squared distances to the nearest cluster center) starts to significantly dip at the **4th cluster**. This suggests that 4 clusters might be the optimal choice.\n",
    "\n",
    "- To further validate this, we use the **silhouette score**, which measures how well data points fit within their clusters. A **higher silhouette score** indicates better-defined clusters.\n",
    "\n",
    "Both these methods together provide a robust approach for identifying the ideal number of clusters for segmentation.\n"
   ]
  },
  {
   "cell_type": "code",
   "execution_count": 54,
   "id": "47053eca",
   "metadata": {
    "execution": {
     "iopub.execute_input": "2025-01-26T16:35:04.808532Z",
     "iopub.status.busy": "2025-01-26T16:35:04.808105Z",
     "iopub.status.idle": "2025-01-26T16:35:05.036749Z",
     "shell.execute_reply": "2025-01-26T16:35:05.035292Z"
    },
    "papermill": {
     "duration": 0.262918,
     "end_time": "2025-01-26T16:35:05.038942",
     "exception": false,
     "start_time": "2025-01-26T16:35:04.776024",
     "status": "completed"
    },
    "tags": []
   },
   "outputs": [
    {
     "data": {
      "image/png": "[encoded data removed]",
      "text/plain": [
       "<Figure size 600x400 with 1 Axes>"
      ]
     },
     "metadata": {},
     "output_type": "display_data"
    }
   ],
   "source": [
    "plt.figure(figsize=(6, 4))\n",
    "plt.plot(range(2, 15), score, marker='o')\n",
    "plt.xlabel('Number of Clusters (k)')\n",
    "plt.ylabel('silhouette_score')\n",
    "plt.title('silhouette_score for K-means Clustering')\n",
    "plt.grid(True)\n",
    "plt.show()"
   ]
  },
  {
   "cell_type": "markdown",
   "id": "fc3f1c59",
   "metadata": {
    "papermill": {
     "duration": 0.031052,
     "end_time": "2025-01-26T16:35:05.102015",
     "exception": false,
     "start_time": "2025-01-26T16:35:05.070963",
     "status": "completed"
    },
    "tags": []
   },
   "source": [
    "### Silhouette Score Analysis\n",
    "\n",
    "From the **silhouette score**, we observe that the **4th cluster** achieves the **highest score**, indicating that it has the most well-defined clusters. This makes the 4th cluster the **optimal choice for segmentation**.\n",
    "\n",
    "The silhouette score helps assess the cohesion and separation of the clusters, ensuring that the data points within a cluster are similar while being distinct from points in other clusters.\n"
   ]
  },
  {
   "cell_type": "code",
   "execution_count": 55,
   "id": "74c5d5bc",
   "metadata": {
    "execution": {
     "iopub.execute_input": "2025-01-26T16:35:05.168342Z",
     "iopub.status.busy": "2025-01-26T16:35:05.167845Z",
     "iopub.status.idle": "2025-01-26T16:35:05.245818Z",
     "shell.execute_reply": "2025-01-26T16:35:05.244423Z"
    },
    "papermill": {
     "duration": 0.112649,
     "end_time": "2025-01-26T16:35:05.247913",
     "exception": false,
     "start_time": "2025-01-26T16:35:05.135264",
     "status": "completed"
    },
    "tags": []
   },
   "outputs": [],
   "source": [
    "kmeans = KMeans(n_clusters=4, random_state=14)\n",
    "kmeans.fit(df_scaled)\n",
    "rfm1 = pd.DataFrame()\n",
    "rfm1 = rfm.loc[:,[\"Recency\",\"Frequency\",\"Monetary\"]]\n",
    "rfm1['Cluster'] = kmeans.labels_"
   ]
  },
  {
   "cell_type": "code",
   "execution_count": 56,
   "id": "b82b62a8",
   "metadata": {
    "execution": {
     "iopub.execute_input": "2025-01-26T16:35:05.312888Z",
     "iopub.status.busy": "2025-01-26T16:35:05.312538Z",
     "iopub.status.idle": "2025-01-26T16:35:05.323758Z",
     "shell.execute_reply": "2025-01-26T16:35:05.322482Z"
    },
    "papermill": {
     "duration": 0.046309,
     "end_time": "2025-01-26T16:35:05.325817",
     "exception": false,
     "start_time": "2025-01-26T16:35:05.279508",
     "status": "completed"
    },
    "tags": []
   },
   "outputs": [
    {
     "data": {
      "text/html": [
       "<div>\n",
       "<style scoped>\n",
       "    .dataframe tbody tr th:only-of-type {\n",
       "        vertical-align: middle;\n",
       "    }\n",
       "\n",
       "    .dataframe tbody tr th {\n",
       "        vertical-align: top;\n",
       "    }\n",
       "\n",
       "    .dataframe thead th {\n",
       "        text-align: right;\n",
       "    }\n",
       "</style>\n",
       "<table border=\"1\" class=\"dataframe\">\n",
       "  <thead>\n",
       "    <tr style=\"text-align: right;\">\n",
       "      <th></th>\n",
       "      <th>Recency</th>\n",
       "      <th>Frequency</th>\n",
       "      <th>Monetary</th>\n",
       "      <th>Cluster</th>\n",
       "    </tr>\n",
       "  </thead>\n",
       "  <tbody>\n",
       "    <tr>\n",
       "      <th>0</th>\n",
       "      <td>1.098612</td>\n",
       "      <td>5.209486</td>\n",
       "      <td>8.368925</td>\n",
       "      <td>1</td>\n",
       "    </tr>\n",
       "    <tr>\n",
       "      <th>1</th>\n",
       "      <td>4.330733</td>\n",
       "      <td>3.332205</td>\n",
       "      <td>7.271175</td>\n",
       "      <td>2</td>\n",
       "    </tr>\n",
       "    <tr>\n",
       "      <th>2</th>\n",
       "      <td>2.995732</td>\n",
       "      <td>4.290459</td>\n",
       "      <td>7.285198</td>\n",
       "      <td>1</td>\n",
       "    </tr>\n",
       "    <tr>\n",
       "      <th>3</th>\n",
       "      <td>5.739793</td>\n",
       "      <td>2.833213</td>\n",
       "      <td>5.688330</td>\n",
       "      <td>0</td>\n",
       "    </tr>\n",
       "    <tr>\n",
       "      <th>4</th>\n",
       "      <td>3.610918</td>\n",
       "      <td>4.356709</td>\n",
       "      <td>7.234711</td>\n",
       "      <td>2</td>\n",
       "    </tr>\n",
       "  </tbody>\n",
       "</table>\n",
       "</div>"
      ],
      "text/plain": [
       "    Recency  Frequency  Monetary  Cluster\n",
       "0  1.098612   5.209486  8.368925        1\n",
       "1  4.330733   3.332205  7.271175        2\n",
       "2  2.995732   4.290459  7.285198        1\n",
       "3  5.739793   2.833213  5.688330        0\n",
       "4  3.610918   4.356709  7.234711        2"
      ]
     },
     "execution_count": 56,
     "metadata": {},
     "output_type": "execute_result"
    }
   ],
   "source": [
    "rfm1.head()"
   ]
  },
  {
   "cell_type": "code",
   "execution_count": 57,
   "id": "c0814257",
   "metadata": {
    "execution": {
     "iopub.execute_input": "2025-01-26T16:35:05.390835Z",
     "iopub.status.busy": "2025-01-26T16:35:05.390472Z",
     "iopub.status.idle": "2025-01-26T16:35:05.405736Z",
     "shell.execute_reply": "2025-01-26T16:35:05.404524Z"
    },
    "papermill": {
     "duration": 0.050027,
     "end_time": "2025-01-26T16:35:05.407546",
     "exception": false,
     "start_time": "2025-01-26T16:35:05.357519",
     "status": "completed"
    },
    "tags": []
   },
   "outputs": [
    {
     "data": {
      "text/html": [
       "<div>\n",
       "<style scoped>\n",
       "    .dataframe tbody tr th:only-of-type {\n",
       "        vertical-align: middle;\n",
       "    }\n",
       "\n",
       "    .dataframe tbody tr th {\n",
       "        vertical-align: top;\n",
       "    }\n",
       "\n",
       "    .dataframe thead th {\n",
       "        text-align: right;\n",
       "    }\n",
       "</style>\n",
       "<table border=\"1\" class=\"dataframe\">\n",
       "  <thead>\n",
       "    <tr style=\"text-align: right;\">\n",
       "      <th></th>\n",
       "      <th>Cluster</th>\n",
       "      <th>Recency</th>\n",
       "      <th>Frequency</th>\n",
       "      <th>Monetary</th>\n",
       "    </tr>\n",
       "  </thead>\n",
       "  <tbody>\n",
       "    <tr>\n",
       "      <th>0</th>\n",
       "      <td>0</td>\n",
       "      <td>5.019757</td>\n",
       "      <td>2.496573</td>\n",
       "      <td>5.415875</td>\n",
       "    </tr>\n",
       "    <tr>\n",
       "      <th>1</th>\n",
       "      <td>1</td>\n",
       "      <td>2.402865</td>\n",
       "      <td>5.188315</td>\n",
       "      <td>8.015080</td>\n",
       "    </tr>\n",
       "    <tr>\n",
       "      <th>2</th>\n",
       "      <td>2</td>\n",
       "      <td>4.424899</td>\n",
       "      <td>4.128353</td>\n",
       "      <td>6.951638</td>\n",
       "    </tr>\n",
       "    <tr>\n",
       "      <th>3</th>\n",
       "      <td>3</td>\n",
       "      <td>2.813437</td>\n",
       "      <td>3.431076</td>\n",
       "      <td>6.141770</td>\n",
       "    </tr>\n",
       "  </tbody>\n",
       "</table>\n",
       "</div>"
      ],
      "text/plain": [
       "   Cluster   Recency  Frequency  Monetary\n",
       "0        0  5.019757   2.496573  5.415875\n",
       "1        1  2.402865   5.188315  8.015080\n",
       "2        2  4.424899   4.128353  6.951638\n",
       "3        3  2.813437   3.431076  6.141770"
      ]
     },
     "execution_count": 57,
     "metadata": {},
     "output_type": "execute_result"
    }
   ],
   "source": [
    "avg_clusters = rfm1.groupby('Cluster').mean()\n",
    "avg_clusters = avg_clusters.reset_index()\n",
    "avg_clusters"
   ]
  },
  {
   "cell_type": "markdown",
   "id": "d4576617",
   "metadata": {
    "papermill": {
     "duration": 0.032378,
     "end_time": "2025-01-26T16:35:05.472020",
     "exception": false,
     "start_time": "2025-01-26T16:35:05.439642",
     "status": "completed"
    },
    "tags": []
   },
   "source": [
    "### Cluster Naming with Defined Labels\n",
    "\n",
    "| Cluster | Name               | Rationale                                                                 |\n",
    "|---------|--------------------|---------------------------------------------------------------------------|\n",
    "| **0**   | **At Risk**        | Highest recency (5.02) indicates inactivity. Moderate frequency (2.50) and monetary (5.42) suggest declining engagement. |\n",
    "| **1**   | **Champions**      | Exceptional frequency (5.19) and monetary (8.02) with low recency (2.40). Recent, frequent, high-value buyers. |\n",
    "| **2**   | **Loyal Customers**| Strong frequency (4.13) and monetary (6.95) with moderate recency (4.42). Consistent buyers needing re-engagement. |\n",
    "| **3**   | **New Customers**  | Moderate recency (2.81) and mid-range metrics (3.43 frequency, 6.14 monetary). Likely recent adopters with growth potential. |\n",
    "\n",
    "---\n",
    "\n",
    "#### Strategic Recommendations:\n",
    "- **Champions (1)**: Reward with exclusives/VIP perks.\n",
    "- **Loyal Customers (2)**: Upsell/cross-sell opportunities.\n",
    "- **New Customers (3)**: Nurture with onboarding campaigns.\n",
    "- **At Risk (0)**: Win-back offers or surveys to understand churn reasons."
   ]
  },
  {
   "cell_type": "code",
   "execution_count": 58,
   "id": "7d3208c0",
   "metadata": {
    "execution": {
     "iopub.execute_input": "2025-01-26T16:35:05.539380Z",
     "iopub.status.busy": "2025-01-26T16:35:05.538948Z",
     "iopub.status.idle": "2025-01-26T16:35:05.545902Z",
     "shell.execute_reply": "2025-01-26T16:35:05.544503Z"
    },
    "papermill": {
     "duration": 0.042715,
     "end_time": "2025-01-26T16:35:05.547978",
     "exception": false,
     "start_time": "2025-01-26T16:35:05.505263",
     "status": "completed"
    },
    "tags": []
   },
   "outputs": [],
   "source": [
    "cluster_label = {0: 'At Risk', \n",
    "                 1: 'Champions', \n",
    "                 2: 'Loyal Customers', \n",
    "                 3: 'New Customers'}\n",
    "\n",
    "rfm1['Cluster Labels'] = rfm1['Cluster'].map(cluster_label)"
   ]
  },
  {
   "cell_type": "code",
   "execution_count": 59,
   "id": "8f55ee1e",
   "metadata": {
    "execution": {
     "iopub.execute_input": "2025-01-26T16:35:05.615503Z",
     "iopub.status.busy": "2025-01-26T16:35:05.615119Z",
     "iopub.status.idle": "2025-01-26T16:35:05.626461Z",
     "shell.execute_reply": "2025-01-26T16:35:05.625426Z"
    },
    "papermill": {
     "duration": 0.047193,
     "end_time": "2025-01-26T16:35:05.628282",
     "exception": false,
     "start_time": "2025-01-26T16:35:05.581089",
     "status": "completed"
    },
    "tags": []
   },
   "outputs": [
    {
     "data": {
      "text/html": [
       "<div>\n",
       "<style scoped>\n",
       "    .dataframe tbody tr th:only-of-type {\n",
       "        vertical-align: middle;\n",
       "    }\n",
       "\n",
       "    .dataframe tbody tr th {\n",
       "        vertical-align: top;\n",
       "    }\n",
       "\n",
       "    .dataframe thead th {\n",
       "        text-align: right;\n",
       "    }\n",
       "</style>\n",
       "<table border=\"1\" class=\"dataframe\">\n",
       "  <thead>\n",
       "    <tr style=\"text-align: right;\">\n",
       "      <th></th>\n",
       "      <th>Recency</th>\n",
       "      <th>Frequency</th>\n",
       "      <th>Monetary</th>\n",
       "      <th>Cluster</th>\n",
       "      <th>Cluster Labels</th>\n",
       "    </tr>\n",
       "  </thead>\n",
       "  <tbody>\n",
       "    <tr>\n",
       "      <th>0</th>\n",
       "      <td>1.098612</td>\n",
       "      <td>5.209486</td>\n",
       "      <td>8.368925</td>\n",
       "      <td>1</td>\n",
       "      <td>Champions</td>\n",
       "    </tr>\n",
       "    <tr>\n",
       "      <th>1</th>\n",
       "      <td>4.330733</td>\n",
       "      <td>3.332205</td>\n",
       "      <td>7.271175</td>\n",
       "      <td>2</td>\n",
       "      <td>Loyal Customers</td>\n",
       "    </tr>\n",
       "    <tr>\n",
       "      <th>2</th>\n",
       "      <td>2.995732</td>\n",
       "      <td>4.290459</td>\n",
       "      <td>7.285198</td>\n",
       "      <td>1</td>\n",
       "      <td>Champions</td>\n",
       "    </tr>\n",
       "    <tr>\n",
       "      <th>3</th>\n",
       "      <td>5.739793</td>\n",
       "      <td>2.833213</td>\n",
       "      <td>5.688330</td>\n",
       "      <td>0</td>\n",
       "      <td>At Risk</td>\n",
       "    </tr>\n",
       "    <tr>\n",
       "      <th>4</th>\n",
       "      <td>3.610918</td>\n",
       "      <td>4.356709</td>\n",
       "      <td>7.234711</td>\n",
       "      <td>2</td>\n",
       "      <td>Loyal Customers</td>\n",
       "    </tr>\n",
       "  </tbody>\n",
       "</table>\n",
       "</div>"
      ],
      "text/plain": [
       "    Recency  Frequency  Monetary  Cluster   Cluster Labels\n",
       "0  1.098612   5.209486  8.368925        1        Champions\n",
       "1  4.330733   3.332205  7.271175        2  Loyal Customers\n",
       "2  2.995732   4.290459  7.285198        1        Champions\n",
       "3  5.739793   2.833213  5.688330        0          At Risk\n",
       "4  3.610918   4.356709  7.234711        2  Loyal Customers"
      ]
     },
     "execution_count": 59,
     "metadata": {},
     "output_type": "execute_result"
    }
   ],
   "source": [
    "rfm1.head()"
   ]
  },
  {
   "cell_type": "code",
   "execution_count": 60,
   "id": "fa2c18ae",
   "metadata": {
    "execution": {
     "iopub.execute_input": "2025-01-26T16:35:05.693753Z",
     "iopub.status.busy": "2025-01-26T16:35:05.693393Z",
     "iopub.status.idle": "2025-01-26T16:35:05.982851Z",
     "shell.execute_reply": "2025-01-26T16:35:05.981662Z"
    },
    "papermill": {
     "duration": 0.324216,
     "end_time": "2025-01-26T16:35:05.984728",
     "exception": false,
     "start_time": "2025-01-26T16:35:05.660512",
     "status": "completed"
    },
    "tags": []
   },
   "outputs": [
    {
     "data": {
      "image/png": "[encoded data removed]",
      "text/plain": [
       "<Figure size 1200x600 with 1 Axes>"
      ]
     },
     "metadata": {},
     "output_type": "display_data"
    }
   ],
   "source": [
    "plt.figure(figsize=(12, 6))\n",
    "sns.barplot(x='Cluster', y='Recency', data=rfm1, palette='Set2')\n",
    "plt.title('Bar Plot of Recency vs Cluster')\n",
    "plt.xlabel('Cluster')\n",
    "plt.ylabel('Recency')\n",
    "plt.show()"
   ]
  },
  {
   "cell_type": "code",
   "execution_count": 61,
   "id": "23f2ec4f",
   "metadata": {
    "execution": {
     "iopub.execute_input": "2025-01-26T16:35:06.055287Z",
     "iopub.status.busy": "2025-01-26T16:35:06.054856Z",
     "iopub.status.idle": "2025-01-26T16:35:06.344681Z",
     "shell.execute_reply": "2025-01-26T16:35:06.343301Z"
    },
    "papermill": {
     "duration": 0.325935,
     "end_time": "2025-01-26T16:35:06.346601",
     "exception": false,
     "start_time": "2025-01-26T16:35:06.020666",
     "status": "completed"
    },
    "tags": []
   },
   "outputs": [
    {
     "data": {
      "image/png": "[encoded data removed]",
      "text/plain": [
       "<Figure size 1200x600 with 1 Axes>"
      ]
     },
     "metadata": {},
     "output_type": "display_data"
    }
   ],
   "source": [
    "plt.figure(figsize=(12, 6))\n",
    "sns.barplot(x='Cluster', y='Frequency', data=rfm1, palette='Set2')\n",
    "plt.title('Bar Plot of Frequency vs Cluster')\n",
    "plt.xlabel('Cluster')\n",
    "plt.ylabel('Frequency')\n",
    "plt.show()"
   ]
  },
  {
   "cell_type": "code",
   "execution_count": 62,
   "id": "e20246ff",
   "metadata": {
    "execution": {
     "iopub.execute_input": "2025-01-26T16:35:06.414478Z",
     "iopub.status.busy": "2025-01-26T16:35:06.414071Z",
     "iopub.status.idle": "2025-01-26T16:35:06.751522Z",
     "shell.execute_reply": "2025-01-26T16:35:06.749722Z"
    },
    "papermill": {
     "duration": 0.374263,
     "end_time": "2025-01-26T16:35:06.754291",
     "exception": false,
     "start_time": "2025-01-26T16:35:06.380028",
     "status": "completed"
    },
    "tags": []
   },
   "outputs": [
    {
     "data": {
      "image/png": "[encoded data removed]",
      "text/plain": [
       "<Figure size 1200x600 with 1 Axes>"
      ]
     },
     "metadata": {},
     "output_type": "display_data"
    }
   ],
   "source": [
    "plt.figure(figsize=(12, 6))\n",
    "sns.barplot(x='Cluster', y='Monetary', data=rfm1, palette='Set2')\n",
    "plt.title('Bar Plot of Monetary vs Cluster')\n",
    "plt.xlabel('Cluster')\n",
    "plt.ylabel('Monetary')\n",
    "plt.show()"
   ]
  },
  {
   "cell_type": "code",
   "execution_count": 63,
   "id": "5286f74b",
   "metadata": {
    "execution": {
     "iopub.execute_input": "2025-01-26T16:35:06.830713Z",
     "iopub.status.busy": "2025-01-26T16:35:06.830180Z",
     "iopub.status.idle": "2025-01-26T16:35:06.982790Z",
     "shell.execute_reply": "2025-01-26T16:35:06.981592Z"
    },
    "papermill": {
     "duration": 0.196729,
     "end_time": "2025-01-26T16:35:06.985112",
     "exception": false,
     "start_time": "2025-01-26T16:35:06.788383",
     "status": "completed"
    },
    "tags": []
   },
   "outputs": [
    {
     "data": {
      "image/png": "[encoded data removed]",
      "text/plain": [
       "<Figure size 800x800 with 1 Axes>"
      ]
     },
     "metadata": {},
     "output_type": "display_data"
    }
   ],
   "source": [
    "segment_counts = rfm1['Cluster Labels'].value_counts()\n",
    "\n",
    "# Plot a pie chart\n",
    "plt.figure(figsize=(8, 8))\n",
    "plt.pie(segment_counts, labels=segment_counts.index, autopct='%1.1f%%', startangle=140, colors=plt.cm.Paired.colors)\n",
    "plt.title('Customer Segments Distribution')\n",
    "plt.show()"
   ]
  },
  {
   "cell_type": "markdown",
   "id": "04d02db2",
   "metadata": {
    "papermill": {
     "duration": 0.035768,
     "end_time": "2025-01-26T16:35:07.061617",
     "exception": false,
     "start_time": "2025-01-26T16:35:07.025849",
     "status": "completed"
    },
    "tags": []
   },
   "source": [
    "### Customer Segmentation: RFM Analysis and K-Means Clustering\n",
    "\n",
    "The pie chart illustrates the customer segmentation results obtained by combining **RFM analysis** and **K-means clustering**. This approach categorizes customers into four distinct groups:\n",
    "\n",
    "1. **Champions (21.5%)**  \n",
    "   - **Characteristics**: Brand advocates with exceptional engagement and spending.  \n",
    "   - **Behavior**: *Low Recency* (recent purchases), *High Frequency*, *High Monetary*.  \n",
    "   - **Strategy**: Reward with loyalty programs and exclusives.\n",
    "\n",
    "2. **Loyal Customers (27.4%)**  \n",
    "   - **Characteristics**: Consistent buyers with moderate activity.  \n",
    "   - **Behavior**: *Average Recency*, *High Frequency*, *High Monetary*.  \n",
    "   - **Strategy**: Upsell/cross-sell opportunities to boost value.\n",
    "\n",
    "3. **New Customers (20.1%)**  \n",
    "   - **Characteristics**: Recent additions to the customer base.  \n",
    "   - **Behavior**: *Low Recency* (very recent first purchase), *Low Frequency*, *Variable Monetary*.  \n",
    "   - **Strategy**: Nurture with onboarding campaigns and welcome offers.\n",
    "\n",
    "4. **At Risk (30.9%)**  \n",
    "   - **Characteristics**: Declining engagement with potential churn risk.  \n",
    "   - **Behavior**: *High Recency* (inactive for long), *Average Frequency*, *Low Monetary*.  \n",
    "   - **Strategy**: Win-back campaigns or surveys to address dissatisfaction.\n",
    "\n",
    "---\n",
    "\n",
    "#### Key Insights:\n",
    "- **Focus Priority**: Champions (21.5%) and Loyal Customers (27.4%) drive 48.9% of revenue.  \n",
    "- **Critical Action**: 30.9% of customers are \"At Risk\" and require immediate retention efforts.  \n",
    "- **Growth Opportunity**: New Customers (20.1%) offer potential for long-term loyalty if nurtured effectively.\n",
    "\n",
    "**Next Steps**: Refine segmentation with dynamic clustering and align marketing strategies with segment behaviors."
   ]
  },
  {
   "cell_type": "markdown",
   "id": "8f45fd75",
   "metadata": {
    "papermill": {
     "duration": 0.037098,
     "end_time": "2025-01-26T16:35:07.134589",
     "exception": false,
     "start_time": "2025-01-26T16:35:07.097491",
     "status": "completed"
    },
    "tags": []
   },
   "source": [
    "## Predictions"
   ]
  },
  {
   "cell_type": "code",
   "execution_count": 64,
   "id": "6dc28206",
   "metadata": {
    "execution": {
     "iopub.execute_input": "2025-01-26T16:35:07.207180Z",
     "iopub.status.busy": "2025-01-26T16:35:07.206638Z",
     "iopub.status.idle": "2025-01-26T16:35:07.212650Z",
     "shell.execute_reply": "2025-01-26T16:35:07.211281Z"
    },
    "papermill": {
     "duration": 0.044433,
     "end_time": "2025-01-26T16:35:07.214711",
     "exception": false,
     "start_time": "2025-01-26T16:35:07.170278",
     "status": "completed"
    },
    "tags": []
   },
   "outputs": [],
   "source": [
    "def predictions(data):\n",
    " X_data = std_scaler.transform(data)\n",
    " pred = kmeans.predict(X_data)\n",
    " return pred"
   ]
  },
  {
   "cell_type": "code",
   "execution_count": 65,
   "id": "de3e580d",
   "metadata": {
    "execution": {
     "iopub.execute_input": "2025-01-26T16:35:07.290095Z",
     "iopub.status.busy": "2025-01-26T16:35:07.289607Z",
     "iopub.status.idle": "2025-01-26T16:35:07.296621Z",
     "shell.execute_reply": "2025-01-26T16:35:07.295440Z"
    },
    "papermill": {
     "duration": 0.045753,
     "end_time": "2025-01-26T16:35:07.298574",
     "exception": false,
     "start_time": "2025-01-26T16:35:07.252821",
     "status": "completed"
    },
    "tags": []
   },
   "outputs": [],
   "source": [
    "def customer_segmentation(Recency, Frequency, Monetary):\n",
    " print(\"Customer Segmentation\")\n",
    " data_recency = np.log1p(Recency)\n",
    " data_frequency = np.log1p(Frequency)\n",
    " data_monetary = np.log1p(Monetary)\n",
    " data = pd.DataFrame({'Recency': [data_recency], 'Frequency': [data_frequency], 'Monetary': [data_monetary]})\n",
    " pred = predictions(data)\n",
    " print(f\"The Customer belongs to {cluster_label[pred[0]]}\")"
   ]
  },
  {
   "cell_type": "code",
   "execution_count": 66,
   "id": "06038616",
   "metadata": {
    "execution": {
     "iopub.execute_input": "2025-01-26T16:35:07.371282Z",
     "iopub.status.busy": "2025-01-26T16:35:07.370783Z",
     "iopub.status.idle": "2025-01-26T16:35:07.381242Z",
     "shell.execute_reply": "2025-01-26T16:35:07.379993Z"
    },
    "papermill": {
     "duration": 0.049669,
     "end_time": "2025-01-26T16:35:07.383323",
     "exception": false,
     "start_time": "2025-01-26T16:35:07.333654",
     "status": "completed"
    },
    "tags": []
   },
   "outputs": [
    {
     "name": "stdout",
     "output_type": "stream",
     "text": [
      "Customer Segmentation\n",
      "The Customer belongs to New Customers\n"
     ]
    }
   ],
   "source": [
    "customer_segmentation(5, 7, 100)"
   ]
  },
  {
   "cell_type": "markdown",
   "id": "d803d1c4",
   "metadata": {
    "papermill": {
     "duration": 0.034245,
     "end_time": "2025-01-26T16:35:07.453903",
     "exception": false,
     "start_time": "2025-01-26T16:35:07.419658",
     "status": "completed"
    },
    "tags": []
   },
   "source": [
    "`i will take row from data to test the it's correct or not`"
   ]
  },
  {
   "cell_type": "code",
   "execution_count": 67,
   "id": "19b63e9f",
   "metadata": {
    "execution": {
     "iopub.execute_input": "2025-01-26T16:35:07.525916Z",
     "iopub.status.busy": "2025-01-26T16:35:07.525538Z",
     "iopub.status.idle": "2025-01-26T16:35:07.542341Z",
     "shell.execute_reply": "2025-01-26T16:35:07.540971Z"
    },
    "papermill": {
     "duration": 0.054924,
     "end_time": "2025-01-26T16:35:07.544114",
     "exception": false,
     "start_time": "2025-01-26T16:35:07.489190",
     "status": "completed"
    },
    "tags": []
   },
   "outputs": [
    {
     "data": {
      "text/html": [
       "<div>\n",
       "<style scoped>\n",
       "    .dataframe tbody tr th:only-of-type {\n",
       "        vertical-align: middle;\n",
       "    }\n",
       "\n",
       "    .dataframe tbody tr th {\n",
       "        vertical-align: top;\n",
       "    }\n",
       "\n",
       "    .dataframe thead th {\n",
       "        text-align: right;\n",
       "    }\n",
       "</style>\n",
       "<table border=\"1\" class=\"dataframe\">\n",
       "  <thead>\n",
       "    <tr style=\"text-align: right;\">\n",
       "      <th></th>\n",
       "      <th>Recency</th>\n",
       "      <th>Frequency</th>\n",
       "      <th>Monetary</th>\n",
       "      <th>Cluster</th>\n",
       "      <th>Cluster Labels</th>\n",
       "    </tr>\n",
       "  </thead>\n",
       "  <tbody>\n",
       "    <tr>\n",
       "      <th>3</th>\n",
       "      <td>5.739793</td>\n",
       "      <td>2.833213</td>\n",
       "      <td>5.688330</td>\n",
       "      <td>0</td>\n",
       "      <td>At Risk</td>\n",
       "    </tr>\n",
       "    <tr>\n",
       "      <th>5</th>\n",
       "      <td>5.323010</td>\n",
       "      <td>1.609438</td>\n",
       "      <td>4.499810</td>\n",
       "      <td>0</td>\n",
       "      <td>At Risk</td>\n",
       "    </tr>\n",
       "    <tr>\n",
       "      <th>7</th>\n",
       "      <td>5.370638</td>\n",
       "      <td>2.639057</td>\n",
       "      <td>6.132096</td>\n",
       "      <td>0</td>\n",
       "      <td>At Risk</td>\n",
       "    </tr>\n",
       "    <tr>\n",
       "      <th>13</th>\n",
       "      <td>5.662960</td>\n",
       "      <td>2.302585</td>\n",
       "      <td>5.169916</td>\n",
       "      <td>0</td>\n",
       "      <td>At Risk</td>\n",
       "    </tr>\n",
       "    <tr>\n",
       "      <th>17</th>\n",
       "      <td>5.676754</td>\n",
       "      <td>3.091042</td>\n",
       "      <td>5.773588</td>\n",
       "      <td>0</td>\n",
       "      <td>At Risk</td>\n",
       "    </tr>\n",
       "  </tbody>\n",
       "</table>\n",
       "</div>"
      ],
      "text/plain": [
       "     Recency  Frequency  Monetary  Cluster Cluster Labels\n",
       "3   5.739793   2.833213  5.688330        0        At Risk\n",
       "5   5.323010   1.609438  4.499810        0        At Risk\n",
       "7   5.370638   2.639057  6.132096        0        At Risk\n",
       "13  5.662960   2.302585  5.169916        0        At Risk\n",
       "17  5.676754   3.091042  5.773588        0        At Risk"
      ]
     },
     "execution_count": 67,
     "metadata": {},
     "output_type": "execute_result"
    }
   ],
   "source": [
    "rfm1[rfm1['Cluster Labels']=='At Risk'].head()"
   ]
  },
  {
   "cell_type": "code",
   "execution_count": 68,
   "id": "ddc2b725",
   "metadata": {
    "execution": {
     "iopub.execute_input": "2025-01-26T16:35:07.616789Z",
     "iopub.status.busy": "2025-01-26T16:35:07.616298Z",
     "iopub.status.idle": "2025-01-26T16:35:07.626672Z",
     "shell.execute_reply": "2025-01-26T16:35:07.625239Z"
    },
    "papermill": {
     "duration": 0.04883,
     "end_time": "2025-01-26T16:35:07.628916",
     "exception": false,
     "start_time": "2025-01-26T16:35:07.580086",
     "status": "completed"
    },
    "tags": []
   },
   "outputs": [
    {
     "name": "stdout",
     "output_type": "stream",
     "text": [
      "Customer Segmentation\n",
      "The Customer belongs to At Risk\n"
     ]
    }
   ],
   "source": [
    "customer_segmentation(5.739793, 2.833213, 5.688330)"
   ]
  },
  {
   "cell_type": "markdown",
   "id": "ff8e0628",
   "metadata": {
    "papermill": {
     "duration": 0.035813,
     "end_time": "2025-01-26T16:35:07.700302",
     "exception": false,
     "start_time": "2025-01-26T16:35:07.664489",
     "status": "completed"
    },
    "tags": []
   },
   "source": [
    "<a id=\"1\"></a>\n",
    "# <div style=\"text-align:center; border-radius:25px 70px; padding:9px; color:white; margin:0; font-size:150%; font-family:Pacifico; background-color:#20B2AA; overflow:hidden\"><b>Conclusion</b></div>"
   ]
  },
  {
   "cell_type": "markdown",
   "id": "0ca014ce",
   "metadata": {
    "papermill": {
     "duration": 0.034233,
     "end_time": "2025-01-26T16:35:07.770573",
     "exception": false,
     "start_time": "2025-01-26T16:35:07.736340",
     "status": "completed"
    },
    "tags": []
   },
   "source": [
    "### RFM Analysis:\n",
    "The RFM analysis helped us categorize customers into **10 distinct groups** based on their recency, frequency, and monetary values. This segmentation approach is highly informative as it reflects customer behavior in a very granular way. It allowed us to identify **exceptional customers** who are highly engaged and spend more, while also highlighting segments of customers who are not very active or have low spending.\n",
    "\n",
    "### KMeans Clustering:\n",
    "Using KMeans clustering, we were able to group customers into **4 clusters** based on their similarities in recency, frequency, and monetary values. This segmentation approach is more **flexible** compared to RFM as it does not rely on predefined grading, allowing the groups to naturally emerge from the data. The clusters provided valuable insights into customer behavior and helped us further refine our understanding of customer categories.\n",
    "\n",
    "### Key Insights:\n",
    "- **Focus Priority**: **Champions** (21.5%) and **Loyal Customers** (27.4%) drive **48.9% of revenue**. These segments should be the primary focus for retention efforts, offering exclusive perks or loyalty rewards to ensure continued engagement.\n",
    "  \n",
    "- **Critical Action**: **30.9% of customers** are classified as \"**At Risk**\" and require **immediate retention efforts**. These customers show signs of low engagement, and we must take quick action to prevent them from churning.\n",
    "\n",
    "- **Growth Opportunity**: **New Customers** (20.1%) offer **potential for long-term loyalty** if nurtured effectively. By providing incentives, personalized communication, and excellent customer service, these customers can be transformed into loyal advocates.\n",
    "\n",
    "- **Next Steps**: Refine segmentation with **dynamic clustering** and align **marketing strategies** with segment behaviors. This will enable us to better understand shifts in customer behavior over time and adapt our strategies accordingly.\n",
    "\n",
    "In conclusion, by combining both RFM and KMeans segmentations, we can tailor our marketing strategies more effectively, focusing on retaining high-value customers while re-engaging or converting inactive ones.\n"
   ]
  },
  {
   "cell_type": "markdown",
   "id": "1606934b",
   "metadata": {
    "papermill": {
     "duration": 0.036388,
     "end_time": "2025-01-26T16:35:07.841315",
     "exception": false,
     "start_time": "2025-01-26T16:35:07.804927",
     "status": "completed"
    },
    "tags": []
   },
   "source": [
    "**Thank you for taking the time to read through this notebook. I appreciate your attention and hope the insights shared here are useful for your projects.**\n",
    "\n",
    "**Feel free to leave any feedback or suggestions**"
   ]
  }
 ],
 "metadata": {
  "kaggle": {
   "accelerator": "none",
   "dataSources": [
    {
     "datasetId": 1985,
     "sourceId": 3404,
     "sourceType": "datasetVersion"
    }
   ],
   "dockerImageVersionId": 30839,
   "isGpuEnabled": false,
   "isInternetEnabled": true,
   "language": "python",
   "sourceType": "notebook"
  },
  "kernelspec": {
   "display_name": "Python 3",
   "language": "python",
   "name": "python3"
  },
  "language_info": {
   "codemirror_mode": {
    "name": "ipython",
    "version": 3
   },
   "file_extension": ".py",
   "mimetype": "text/x-python",
   "name": "python",
   "nbconvert_exporter": "python",
   "pygments_lexer": "ipython3",
   "version": "3.10.12"
  },
  "papermill": {
   "default_parameters": {},
   "duration": 35.338867,
   "end_time": "2025-01-26T16:35:09.000837",
   "environment_variables": {},
   "exception": null,
   "input_path": "__notebook__.ipynb",
   "output_path": "__notebook__.ipynb",
   "parameters": {},
   "start_time": "2025-01-26T16:34:33.661970",
   "version": "2.6.0"
  }
 },
 "nbformat": 4,
 "nbformat_minor": 5
}
